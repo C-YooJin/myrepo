{
 "cells": [
  {
   "cell_type": "code",
   "execution_count": 1,
   "metadata": {},
   "outputs": [
    {
     "name": "stdout",
     "output_type": "stream",
     "text": [
      "{'0': {'file_url': 'https://www.pets4homes.co.uk/images/breeds/13/large/f154a6789fd8a3f4fcd1ef2b628d494f.jpg', 'name': 'L2ltYWdlcy9icmVlZHMvMTMvbGFyZ2UvZjE1NGE2Nzg5ZmQ4YTNmNGZjZDFlZjJiNjI4ZDQ5NGYuanBn.jpg'}, '1': {'file_url': 'https://lookaside.fbsbx.com/lookaside/crawler/media/?media_id=607600402635002', 'name': 'L2xvb2thc2lkZS9jcmF3bGVyL21lZGlhLw==.jpg'}, '2': {'file_url': 'http://www.petstorenepal.com/image/cache/catalog/dog/puppiesforsale/85a20d212ad65f38a707c16d424e1791-900x1050.jpg', 'name': 'L2ltYWdlL2NhY2hlL2NhdGFsb2cvZG9nL3B1cHBpZXNmb3JzYWxlLzg1YTIwZDIxMmFkNjVmMzhhNzA3YzE2ZDQyNGUxNzkxLTkwMHgxMDUwLmpwZw==.jpg'}, '3': {'file_url': 'https://hips.hearstapps.com/hmg-prod.s3.amazonaws.com/images/doug-the-pug-1516375006.jpg?crop=0.984xw:0.722xh;0,0.264xh&resize=1200:*', 'name': 'L2htZy1wcm9kLnMzLmFtYXpvbmF3cy5jb20vaW1hZ2VzL2RvdWctdGhlLXB1Zy0xNTE2Mzc1MDA2LmpwZw==.jpg'}, '4': {'file_url': 'https://barkingroyalty.com/wp-content/uploads/2017/02/pug-stop-snoring.jpg', 'name': 'L3dwLWNvbnRlbnQvdXBsb2Fkcy8yMDE3LzAyL3B1Zy1zdG9wLXNub3JpbmcuanBn.jpg'}, '5': {'file_url': 'https://images-na.ssl-images-amazon.com/images/I/61oY4LvbLKL._UY395_.jpg', 'name': 'L2ltYWdlcy9JLzYxb1k0THZiTEtMLl9VWTM5NV8uanBn.jpg'}, '6': {'file_url': 'https://images-na.ssl-images-amazon.com/images/I/61oY4LvbLKL._UY395_.jpg', 'name': 'L2ltYWdlcy9JLzYxb1k0THZiTEtMLl9VWTM5NV8uanBn.jpg'}, '7': {'file_url': 'https://i.pinimg.com/originals/fe/16/9e/fe169e836b16a9cc6fa7b85705884181.jpg', 'name': 'L29yaWdpbmFscy9mZS8xNi85ZS9mZTE2OWU4MzZiMTZhOWNjNmZhN2I4NTcwNTg4NDE4MS5qcGc=.jpg'}, '8': {'file_url': 'http://mapr.ggwz.us/images/mapr/rescues/auto/2049.jpg', 'name': 'L2ltYWdlcy9tYXByL3Jlc2N1ZXMvYXV0by8yMDQ5LmpwZw==.jpg'}, '9': {'file_url': 'https://pugshome.com/wp-content/uploads/2017/01/pug-kisses.jpg', 'name': 'L3dwLWNvbnRlbnQvdXBsb2Fkcy8yMDE3LzAxL3B1Zy1raXNzZXMuanBn.jpg'}, '10': {'file_url': 'https://imgix.ranker.com/user_node_img/50026/1000504468/original/big-eyes-photo-u1?w=650&q=50&fm=pjpg&fit=crop&crop=faces', 'name': 'L3VzZXJfbm9kZV9pbWcvNTAwMjYvMTAwMDUwNDQ2OC9vcmlnaW5hbC9iaWctZXllcy1waG90by11MQ==.jpg'}, '11': {'file_url': 'https://i.pinimg.com/originals/a3/be/06/a3be0684f782c6b276df4055de75f341.jpg', 'name': 'L29yaWdpbmFscy9hMy9iZS8wNi9hM2JlMDY4NGY3ODJjNmIyNzZkZjQwNTVkZTc1ZjM0MS5qcGc=.jpg'}, '12': {'file_url': 'http://www.petstorenepal.com/image/cache/catalog/dog/puppiesforsale/85a20d212ad65f38a707c16d424e1791-900x1050.jpg', 'name': 'L2ltYWdlL2NhY2hlL2NhdGFsb2cvZG9nL3B1cHBpZXNmb3JzYWxlLzg1YTIwZDIxMmFkNjVmMzhhNzA3YzE2ZDQyNGUxNzkxLTkwMHgxMDUwLmpwZw==.jpg'}, '13': {'file_url': 'https://usatftw.files.wordpress.com/2014/09/afp-533122985.jpg?w=1000&h=600&crop=1', 'name': 'LzIwMTQvMDkvYWZwLTUzMzEyMjk4NS5qcGc=.jpg'}, '14': {'file_url': 'https://cdn1-www.dogtime.com/assets/uploads/gallery/pug-dog-breed-pictures/5-seniorprofile.jpg', 'name': 'L2Fzc2V0cy91cGxvYWRzL2dhbGxlcnkvcHVnLWRvZy1icmVlZC1waWN0dXJlcy81LXNlbmlvcnByb2ZpbGUuanBn.jpg'}, '15': {'file_url': 'https://images-ra.adoptapet.com/seo/1/h/96_h.png', 'name': 'L3Nlby8xL2gvOTZfaC5wbmc=.png'}, '16': {'file_url': 'https://i.pinimg.com/originals/a3/be/06/a3be0684f782c6b276df4055de75f341.jpg', 'name': 'L29yaWdpbmFscy9hMy9iZS8wNi9hM2JlMDY4NGY3ODJjNmIyNzZkZjQwNTVkZTc1ZjM0MS5qcGc=.jpg'}, '17': {'file_url': 'https://www.claires.com/on/demandware.static/-/Library-Sites-claires-library/default/dw61fa53f4/cat-landing-pages/doug-the-pug-clp/DougThePug-3-New-Galaxy-2560x1440.jpg', 'name': 'L29uL2RlbWFuZHdhcmUuc3RhdGljLy0vTGlicmFyeS1TaXRlcy1jbGFpcmVzLWxpYnJhcnkvZGVmYXVsdC9kdzYxZmE1M2Y0L2NhdC1sYW5kaW5nLXBhZ2VzL2RvdWctdGhlLXB1Zy1jbHAvRG91Z1RoZVB1Zy0zLU5ldy1HYWxheHktMjU2MHgxNDQwLmpwZw==.jpg'}, '18': {'file_url': 'https://imgix.ranker.com/user_node_img/50026/1000504480/original/puppy-cuddle-photo-u1?w=650&q=50&fm=pjpg&fit=crop&crop=faces', 'name': 'L3VzZXJfbm9kZV9pbWcvNTAwMjYvMTAwMDUwNDQ4MC9vcmlnaW5hbC9wdXBweS1jdWRkbGUtcGhvdG8tdTE=.jpg'}, '19': {'file_url': 'https://imgix.ranker.com/user_node_img/50026/1000504468/original/big-eyes-photo-u1?w=650&q=50&fm=pjpg&fit=crop&crop=faces', 'name': 'L3VzZXJfbm9kZV9pbWcvNTAwMjYvMTAwMDUwNDQ2OC9vcmlnaW5hbC9iaWctZXllcy1waG90by11MQ==.jpg'}, '20': {'file_url': 'https://upload.wikimedia.org/wikipedia/commons/6/6f/Pug_-_1_year_Old.jpg', 'name': 'L3dpa2lwZWRpYS9jb21tb25zLzYvNmYvUHVnXy1fMV95ZWFyX09sZC5qcGc=.jpg'}, '21': {'file_url': 'https://s3.amazonaws.com/cdn-origin-etr.akc.org/wp-content/uploads/2017/11/12225358/Pug-On-White-01.jpg', 'name': 'L2Nkbi1vcmlnaW4tZXRyLmFrYy5vcmcvd3AtY29udGVudC91cGxvYWRzLzIwMTcvMTEvMTIyMjUzNTgvUHVnLU9uLVdoaXRlLTAxLmpwZw==.jpg'}, '22': {'file_url': 'https://secure.img1-fg.wfcdn.com/im/53299221/compr-r85/4307/43074449/hanging-pug-puppy-statue.jpg', 'name': 'L2ltLzUzMjk5MjIxL2NvbXByLXI4NS80MzA3LzQzMDc0NDQ5L2hhbmdpbmctcHVnLXB1cHB5LXN0YXR1ZS5qcGc=.jpg'}, '23': {'file_url': 'https://s3.amazonaws.com/cdn-origin-etr.akc.org/wp-content/uploads/2017/11/05085531/Pug-1-resized.jpg', 'name': 'L2Nkbi1vcmlnaW4tZXRyLmFrYy5vcmcvd3AtY29udGVudC91cGxvYWRzLzIwMTcvMTEvMDUwODU1MzEvUHVnLTEtcmVzaXplZC5qcGc=.jpg'}, '24': {'file_url': 'https://gfnc1kn6pi-flywheel.netdna-ssl.com/wp-content/uploads/2018/06/best-food-for-pug-puppies-header.jpg', 'name': 'L3dwLWNvbnRlbnQvdXBsb2Fkcy8yMDE4LzA2L2Jlc3QtZm9vZC1mb3ItcHVnLXB1cHBpZXMtaGVhZGVyLmpwZw==.jpg'}, '25': {'file_url': 'https://i.ytimg.com/vi/wRx3Uvcktm8/maxresdefault.jpg', 'name': 'L3ZpL3dSeDNVdmNrdG04L21heHJlc2RlZmF1bHQuanBn.jpg'}, '26': {'file_url': 'https://images-na.ssl-images-amazon.com/images/I/71gRnoHe%2BTL._UY550_.jpg', 'name': 'L2ltYWdlcy9JLzcxZ1Jub0hlJTJCVEwuX1VZNTUwXy5qcGc=.jpg'}, '27': {'file_url': 'https://vetstreet.brightspotcdn.com/dims4/default/354d0cf/2147483647/thumbnail/645x380/quality/90/?url=https%3A%2F%2Fvetstreet-brightspot.s3.amazonaws.com%2Fdc%2Fc4%2F8ccd3a28438d81b2f2f5d8031a05%2Fpug-ap-r82p3q-645.jpg', 'name': 'L2RpbXM0L2RlZmF1bHQvMzU0ZDBjZi8yMTQ3NDgzNjQ3L3RodW1ibmFpbC82NDV4MzgwL3F1YWxpdHkvOTAv.jpg'}, '28': {'file_url': 'https://cdn1-www.dogtime.com/assets/uploads/gallery/pug-dog-breed-pictures/2-face.jpg', 'name': 'L2Fzc2V0cy91cGxvYWRzL2dhbGxlcnkvcHVnLWRvZy1icmVlZC1waWN0dXJlcy8yLWZhY2UuanBn.jpg'}, '29': {'file_url': 'https://images-ra.adoptapet.com/seo/1/h/96_h.png', 'name': 'L3Nlby8xL2gvOTZfaC5wbmc=.png'}, '30': {'file_url': 'https://pugshome.com/wp-content/uploads/2017/01/pug-kisses.jpg', 'name': 'L3dwLWNvbnRlbnQvdXBsb2Fkcy8yMDE3LzAxL3B1Zy1raXNzZXMuanBn.jpg'}, '31': {'file_url': 'https://imgix.ranker.com/user_node_img/50026/1000504480/original/puppy-cuddle-photo-u1?w=650&q=50&fm=pjpg&fit=crop&crop=faces', 'name': 'L3VzZXJfbm9kZV9pbWcvNTAwMjYvMTAwMDUwNDQ4MC9vcmlnaW5hbC9wdXBweS1jdWRkbGUtcGhvdG8tdTE=.jpg'}, '32': {'file_url': 'https://gfnc1kn6pi-flywheel.netdna-ssl.com/wp-content/uploads/2018/07/black-pug-RJ-long.jpg', 'name': 'L3dwLWNvbnRlbnQvdXBsb2Fkcy8yMDE4LzA3L2JsYWNrLXB1Zy1SSi1sb25nLmpwZw==.jpg'}, '33': {'file_url': 'https://www.petguide.com/wp-content/uploads/2013/02/pug1.jpg', 'name': 'L3dwLWNvbnRlbnQvdXBsb2Fkcy8yMDEzLzAyL3B1ZzEuanBn.jpg'}, '34': {'file_url': 'https://s3.amazonaws.com/cdn-origin-etr.akc.org/wp-content/uploads/2017/11/12225427/Pug-Care.jpg', 'name': 'L2Nkbi1vcmlnaW4tZXRyLmFrYy5vcmcvd3AtY29udGVudC91cGxvYWRzLzIwMTcvMTEvMTIyMjU0MjcvUHVnLUNhcmUuanBn.jpg'}, '35': {'file_url': 'https://upload.wikimedia.org/wikipedia/commons/6/6f/Pug_-_1_year_Old.jpg', 'name': 'L3dpa2lwZWRpYS9jb21tb25zLzYvNmYvUHVnXy1fMV95ZWFyX09sZC5qcGc=.jpg'}, '36': {'file_url': 'https://s3.amazonaws.com/cdn-origin-etr.akc.org/wp-content/uploads/2017/11/12225358/Pug-On-White-01.jpg', 'name': 'L2Nkbi1vcmlnaW4tZXRyLmFrYy5vcmcvd3AtY29udGVudC91cGxvYWRzLzIwMTcvMTEvMTIyMjUzNTgvUHVnLU9uLVdoaXRlLTAxLmpwZw==.jpg'}, '37': {'file_url': 'https://secure.img1-fg.wfcdn.com/im/53299221/compr-r85/4307/43074449/hanging-pug-puppy-statue.jpg', 'name': 'L2ltLzUzMjk5MjIxL2NvbXByLXI4NS80MzA3LzQzMDc0NDQ5L2hhbmdpbmctcHVnLXB1cHB5LXN0YXR1ZS5qcGc=.jpg'}, '38': {'file_url': 'https://s3.amazonaws.com/cdn-origin-etr.akc.org/wp-content/uploads/2017/11/05085531/Pug-1-resized.jpg', 'name': 'L2Nkbi1vcmlnaW4tZXRyLmFrYy5vcmcvd3AtY29udGVudC91cGxvYWRzLzIwMTcvMTEvMDUwODU1MzEvUHVnLTEtcmVzaXplZC5qcGc=.jpg'}, '39': {'file_url': 'https://i.ytimg.com/vi/wRx3Uvcktm8/maxresdefault.jpg', 'name': 'L3ZpL3dSeDNVdmNrdG04L21heHJlc2RlZmF1bHQuanBn.jpg'}, '40': {'file_url': 'https://cdn3-www.dogtime.com/assets/uploads/2011/01/file_23124_pug-460x290.jpg', 'name': 'L2Fzc2V0cy91cGxvYWRzLzIwMTEvMDEvZmlsZV8yMzEyNF9wdWctNDYweDI5MC5qcGc=.jpg'}, '41': {'file_url': 'https://gfnc1kn6pi-flywheel.netdna-ssl.com/wp-content/uploads/2018/06/best-food-for-pug-puppies-header.jpg', 'name': 'L3dwLWNvbnRlbnQvdXBsb2Fkcy8yMDE4LzA2L2Jlc3QtZm9vZC1mb3ItcHVnLXB1cHBpZXMtaGVhZGVyLmpwZw==.jpg'}, '42': {'file_url': 'https://pugshome.com/wp-content/uploads/2017/01/pug-kisses.jpg', 'name': 'L3dwLWNvbnRlbnQvdXBsb2Fkcy8yMDE3LzAxL3B1Zy1raXNzZXMuanBn.jpg'}, '43': {'file_url': 'http://images6.fanpop.com/image/photos/41000000/A-Black-Pug-pugs-41042378-700-467.jpg', 'name': 'L2ltYWdlL3Bob3Rvcy80MTAwMDAwMC9BLUJsYWNrLVB1Zy1wdWdzLTQxMDQyMzc4LTcwMC00NjcuanBn.jpg'}, '44': {'file_url': 'http://www.petplan.com.au/blog/wp-content/uploads/2018/02/pug.jpg', 'name': 'L2Jsb2cvd3AtY29udGVudC91cGxvYWRzLzIwMTgvMDIvcHVnLmpwZw==.jpg'}, '45': {'file_url': 'https://i.ebayimg.com/images/g/jPoAAOSwbtNaQjNl/s-l300.jpg', 'name': 'L2ltYWdlcy9nL2pQb0FBT1N3YnROYVFqTmwvcy1sMzAwLmpwZw==.jpg'}, '46': {'file_url': 'https://pugshome.com/wp-content/uploads/2017/01/pug-kisses.jpg', 'name': 'L3dwLWNvbnRlbnQvdXBsb2Fkcy8yMDE3LzAxL3B1Zy1raXNzZXMuanBn.jpg'}, '47': {'file_url': 'http://images6.fanpop.com/image/photos/41000000/A-Black-Pug-pugs-41042378-700-467.jpg', 'name': 'L2ltYWdlL3Bob3Rvcy80MTAwMDAwMC9BLUJsYWNrLVB1Zy1wdWdzLTQxMDQyMzc4LTcwMC00NjcuanBn.jpg'}, '48': {'file_url': 'http://www.petplan.com.au/blog/wp-content/uploads/2018/02/pug.jpg', 'name': 'L2Jsb2cvd3AtY29udGVudC91cGxvYWRzLzIwMTgvMDIvcHVnLmpwZw==.jpg'}, '49': {'file_url': 'https://i.ebayimg.com/images/g/jPoAAOSwbtNaQjNl/s-l300.jpg', 'name': 'L2ltYWdlcy9nL2pQb0FBT1N3YnROYVFqTmwvcy1sMzAwLmpwZw==.jpg'}, '50': {'file_url': 'https://pugshome.com/wp-content/uploads/2017/01/pug-kisses.jpg', 'name': 'L3dwLWNvbnRlbnQvdXBsb2Fkcy8yMDE3LzAxL3B1Zy1raXNzZXMuanBn.jpg'}, '51': {'file_url': 'http://images6.fanpop.com/image/photos/41000000/A-Black-Pug-pugs-41042378-700-467.jpg', 'name': 'L2ltYWdlL3Bob3Rvcy80MTAwMDAwMC9BLUJsYWNrLVB1Zy1wdWdzLTQxMDQyMzc4LTcwMC00NjcuanBn.jpg'}, '52': {'file_url': 'http://www.petplan.com.au/blog/wp-content/uploads/2018/02/pug.jpg', 'name': 'L2Jsb2cvd3AtY29udGVudC91cGxvYWRzLzIwMTgvMDIvcHVnLmpwZw==.jpg'}, '53': {'file_url': 'https://i.ebayimg.com/images/g/jPoAAOSwbtNaQjNl/s-l300.jpg', 'name': 'L2ltYWdlcy9nL2pQb0FBT1N3YnROYVFqTmwvcy1sMzAwLmpwZw==.jpg'}, '54': {'file_url': 'https://upload.wikimedia.org/wikipedia/commons/6/6f/Pug_-_1_year_Old.jpg', 'name': 'L3dpa2lwZWRpYS9jb21tb25zLzYvNmYvUHVnXy1fMV95ZWFyX09sZC5qcGc=.jpg'}, '55': {'file_url': 'https://s3.amazonaws.com/cdn-origin-etr.akc.org/wp-content/uploads/2017/11/12225358/Pug-On-White-01.jpg', 'name': 'L2Nkbi1vcmlnaW4tZXRyLmFrYy5vcmcvd3AtY29udGVudC91cGxvYWRzLzIwMTcvMTEvMTIyMjUzNTgvUHVnLU9uLVdoaXRlLTAxLmpwZw==.jpg'}, '56': {'file_url': 'https://secure.img1-fg.wfcdn.com/im/53299221/compr-r85/4307/43074449/hanging-pug-puppy-statue.jpg', 'name': 'L2ltLzUzMjk5MjIxL2NvbXByLXI4NS80MzA3LzQzMDc0NDQ5L2hhbmdpbmctcHVnLXB1cHB5LXN0YXR1ZS5qcGc=.jpg'}, '57': {'file_url': 'https://s3.amazonaws.com/cdn-origin-etr.akc.org/wp-content/uploads/2017/11/05085531/Pug-1-resized.jpg', 'name': 'L2Nkbi1vcmlnaW4tZXRyLmFrYy5vcmcvd3AtY29udGVudC91cGxvYWRzLzIwMTcvMTEvMDUwODU1MzEvUHVnLTEtcmVzaXplZC5qcGc=.jpg'}, '58': {'file_url': 'https://upload.wikimedia.org/wikipedia/commons/6/6f/Pug_-_1_year_Old.jpg', 'name': 'L3dpa2lwZWRpYS9jb21tb25zLzYvNmYvUHVnXy1fMV95ZWFyX09sZC5qcGc=.jpg'}, '59': {'file_url': 'https://s3.amazonaws.com/cdn-origin-etr.akc.org/wp-content/uploads/2017/11/12225358/Pug-On-White-01.jpg', 'name': 'L2Nkbi1vcmlnaW4tZXRyLmFrYy5vcmcvd3AtY29udGVudC91cGxvYWRzLzIwMTcvMTEvMTIyMjUzNTgvUHVnLU9uLVdoaXRlLTAxLmpwZw==.jpg'}, '60': {'file_url': 'https://secure.img1-fg.wfcdn.com/im/53299221/compr-r85/4307/43074449/hanging-pug-puppy-statue.jpg', 'name': 'L2ltLzUzMjk5MjIxL2NvbXByLXI4NS80MzA3LzQzMDc0NDQ5L2hhbmdpbmctcHVnLXB1cHB5LXN0YXR1ZS5qcGc=.jpg'}, '61': {'file_url': 'https://s3.amazonaws.com/cdn-origin-etr.akc.org/wp-content/uploads/2017/11/05085531/Pug-1-resized.jpg', 'name': 'L2Nkbi1vcmlnaW4tZXRyLmFrYy5vcmcvd3AtY29udGVudC91cGxvYWRzLzIwMTcvMTEvMDUwODU1MzEvUHVnLTEtcmVzaXplZC5qcGc=.jpg'}, '62': {'file_url': 'https://pugshome.com/wp-content/uploads/2017/01/pug-kisses.jpg', 'name': 'L3dwLWNvbnRlbnQvdXBsb2Fkcy8yMDE3LzAxL3B1Zy1raXNzZXMuanBn.jpg'}, '63': {'file_url': 'http://images6.fanpop.com/image/photos/41000000/A-Black-Pug-pugs-41042378-700-467.jpg', 'name': 'L2ltYWdlL3Bob3Rvcy80MTAwMDAwMC9BLUJsYWNrLVB1Zy1wdWdzLTQxMDQyMzc4LTcwMC00NjcuanBn.jpg'}, '64': {'file_url': 'http://www.petplan.com.au/blog/wp-content/uploads/2018/02/pug.jpg', 'name': 'L2Jsb2cvd3AtY29udGVudC91cGxvYWRzLzIwMTgvMDIvcHVnLmpwZw==.jpg'}, '65': {'file_url': 'https://i.ebayimg.com/images/g/jPoAAOSwbtNaQjNl/s-l300.jpg', 'name': 'L2ltYWdlcy9nL2pQb0FBT1N3YnROYVFqTmwvcy1sMzAwLmpwZw==.jpg'}, '66': {'file_url': 'https://upload.wikimedia.org/wikipedia/commons/6/6f/Pug_-_1_year_Old.jpg', 'name': 'L3dpa2lwZWRpYS9jb21tb25zLzYvNmYvUHVnXy1fMV95ZWFyX09sZC5qcGc=.jpg'}, '67': {'file_url': 'https://s3.amazonaws.com/cdn-origin-etr.akc.org/wp-content/uploads/2017/11/12225358/Pug-On-White-01.jpg', 'name': 'L2Nkbi1vcmlnaW4tZXRyLmFrYy5vcmcvd3AtY29udGVudC91cGxvYWRzLzIwMTcvMTEvMTIyMjUzNTgvUHVnLU9uLVdoaXRlLTAxLmpwZw==.jpg'}, '68': {'file_url': 'https://secure.img1-fg.wfcdn.com/im/53299221/compr-r85/4307/43074449/hanging-pug-puppy-statue.jpg', 'name': 'L2ltLzUzMjk5MjIxL2NvbXByLXI4NS80MzA3LzQzMDc0NDQ5L2hhbmdpbmctcHVnLXB1cHB5LXN0YXR1ZS5qcGc=.jpg'}, '69': {'file_url': 'https://s3.amazonaws.com/cdn-origin-etr.akc.org/wp-content/uploads/2017/11/05085531/Pug-1-resized.jpg', 'name': 'L2Nkbi1vcmlnaW4tZXRyLmFrYy5vcmcvd3AtY29udGVudC91cGxvYWRzLzIwMTcvMTEvMDUwODU1MzEvUHVnLTEtcmVzaXplZC5qcGc=.jpg'}, '70': {'file_url': 'https://upload.wikimedia.org/wikipedia/commons/6/6f/Pug_-_1_year_Old.jpg', 'name': 'L3dpa2lwZWRpYS9jb21tb25zLzYvNmYvUHVnXy1fMV95ZWFyX09sZC5qcGc=.jpg'}, '71': {'file_url': 'https://s3.amazonaws.com/cdn-origin-etr.akc.org/wp-content/uploads/2017/11/12225358/Pug-On-White-01.jpg', 'name': 'L2Nkbi1vcmlnaW4tZXRyLmFrYy5vcmcvd3AtY29udGVudC91cGxvYWRzLzIwMTcvMTEvMTIyMjUzNTgvUHVnLU9uLVdoaXRlLTAxLmpwZw==.jpg'}, '72': {'file_url': 'https://secure.img1-fg.wfcdn.com/im/53299221/compr-r85/4307/43074449/hanging-pug-puppy-statue.jpg', 'name': 'L2ltLzUzMjk5MjIxL2NvbXByLXI4NS80MzA3LzQzMDc0NDQ5L2hhbmdpbmctcHVnLXB1cHB5LXN0YXR1ZS5qcGc=.jpg'}, '73': {'file_url': 'https://s3.amazonaws.com/cdn-origin-etr.akc.org/wp-content/uploads/2017/11/05085531/Pug-1-resized.jpg', 'name': 'L2Nkbi1vcmlnaW4tZXRyLmFrYy5vcmcvd3AtY29udGVudC91cGxvYWRzLzIwMTcvMTEvMDUwODU1MzEvUHVnLTEtcmVzaXplZC5qcGc=.jpg'}, '74': {'file_url': 'https://upload.wikimedia.org/wikipedia/commons/6/6f/Pug_-_1_year_Old.jpg', 'name': 'L3dpa2lwZWRpYS9jb21tb25zLzYvNmYvUHVnXy1fMV95ZWFyX09sZC5qcGc=.jpg'}, '75': {'file_url': 'https://s3.amazonaws.com/cdn-origin-etr.akc.org/wp-content/uploads/2017/11/12225358/Pug-On-White-01.jpg', 'name': 'L2Nkbi1vcmlnaW4tZXRyLmFrYy5vcmcvd3AtY29udGVudC91cGxvYWRzLzIwMTcvMTEvMTIyMjUzNTgvUHVnLU9uLVdoaXRlLTAxLmpwZw==.jpg'}, '76': {'file_url': 'https://secure.img1-fg.wfcdn.com/im/53299221/compr-r85/4307/43074449/hanging-pug-puppy-statue.jpg', 'name': 'L2ltLzUzMjk5MjIxL2NvbXByLXI4NS80MzA3LzQzMDc0NDQ5L2hhbmdpbmctcHVnLXB1cHB5LXN0YXR1ZS5qcGc=.jpg'}, '77': {'file_url': 'https://s3.amazonaws.com/cdn-origin-etr.akc.org/wp-content/uploads/2017/11/05085531/Pug-1-resized.jpg', 'name': 'L2Nkbi1vcmlnaW4tZXRyLmFrYy5vcmcvd3AtY29udGVudC91cGxvYWRzLzIwMTcvMTEvMDUwODU1MzEvUHVnLTEtcmVzaXplZC5qcGc=.jpg'}, '78': {'file_url': 'https://upload.wikimedia.org/wikipedia/commons/6/6f/Pug_-_1_year_Old.jpg', 'name': 'L3dpa2lwZWRpYS9jb21tb25zLzYvNmYvUHVnXy1fMV95ZWFyX09sZC5qcGc=.jpg'}, '79': {'file_url': 'https://s3.amazonaws.com/cdn-origin-etr.akc.org/wp-content/uploads/2017/11/12225358/Pug-On-White-01.jpg', 'name': 'L2Nkbi1vcmlnaW4tZXRyLmFrYy5vcmcvd3AtY29udGVudC91cGxvYWRzLzIwMTcvMTEvMTIyMjUzNTgvUHVnLU9uLVdoaXRlLTAxLmpwZw==.jpg'}, '80': {'file_url': 'https://secure.img1-fg.wfcdn.com/im/53299221/compr-r85/4307/43074449/hanging-pug-puppy-statue.jpg', 'name': 'L2ltLzUzMjk5MjIxL2NvbXByLXI4NS80MzA3LzQzMDc0NDQ5L2hhbmdpbmctcHVnLXB1cHB5LXN0YXR1ZS5qcGc=.jpg'}, '81': {'file_url': 'https://s3.amazonaws.com/cdn-origin-etr.akc.org/wp-content/uploads/2017/11/05085531/Pug-1-resized.jpg', 'name': 'L2Nkbi1vcmlnaW4tZXRyLmFrYy5vcmcvd3AtY29udGVudC91cGxvYWRzLzIwMTcvMTEvMDUwODU1MzEvUHVnLTEtcmVzaXplZC5qcGc=.jpg'}, '82': {'file_url': 'https://upload.wikimedia.org/wikipedia/commons/6/6f/Pug_-_1_year_Old.jpg', 'name': 'L3dpa2lwZWRpYS9jb21tb25zLzYvNmYvUHVnXy1fMV95ZWFyX09sZC5qcGc=.jpg'}, '83': {'file_url': 'https://s3.amazonaws.com/cdn-origin-etr.akc.org/wp-content/uploads/2017/11/12225358/Pug-On-White-01.jpg', 'name': 'L2Nkbi1vcmlnaW4tZXRyLmFrYy5vcmcvd3AtY29udGVudC91cGxvYWRzLzIwMTcvMTEvMTIyMjUzNTgvUHVnLU9uLVdoaXRlLTAxLmpwZw==.jpg'}, '84': {'file_url': 'https://secure.img1-fg.wfcdn.com/im/53299221/compr-r85/4307/43074449/hanging-pug-puppy-statue.jpg', 'name': 'L2ltLzUzMjk5MjIxL2NvbXByLXI4NS80MzA3LzQzMDc0NDQ5L2hhbmdpbmctcHVnLXB1cHB5LXN0YXR1ZS5qcGc=.jpg'}, '85': {'file_url': 'https://s3.amazonaws.com/cdn-origin-etr.akc.org/wp-content/uploads/2017/11/05085531/Pug-1-resized.jpg', 'name': 'L2Nkbi1vcmlnaW4tZXRyLmFrYy5vcmcvd3AtY29udGVudC91cGxvYWRzLzIwMTcvMTEvMDUwODU1MzEvUHVnLTEtcmVzaXplZC5qcGc=.jpg'}, '86': {'file_url': 'https://upload.wikimedia.org/wikipedia/commons/6/6f/Pug_-_1_year_Old.jpg', 'name': 'L3dpa2lwZWRpYS9jb21tb25zLzYvNmYvUHVnXy1fMV95ZWFyX09sZC5qcGc=.jpg'}, '87': {'file_url': 'https://s3.amazonaws.com/cdn-origin-etr.akc.org/wp-content/uploads/2017/11/12225358/Pug-On-White-01.jpg', 'name': 'L2Nkbi1vcmlnaW4tZXRyLmFrYy5vcmcvd3AtY29udGVudC91cGxvYWRzLzIwMTcvMTEvMTIyMjUzNTgvUHVnLU9uLVdoaXRlLTAxLmpwZw==.jpg'}, '88': {'file_url': 'https://secure.img1-fg.wfcdn.com/im/53299221/compr-r85/4307/43074449/hanging-pug-puppy-statue.jpg', 'name': 'L2ltLzUzMjk5MjIxL2NvbXByLXI4NS80MzA3LzQzMDc0NDQ5L2hhbmdpbmctcHVnLXB1cHB5LXN0YXR1ZS5qcGc=.jpg'}, '89': {'file_url': 'https://s3.amazonaws.com/cdn-origin-etr.akc.org/wp-content/uploads/2017/11/05085531/Pug-1-resized.jpg', 'name': 'L2Nkbi1vcmlnaW4tZXRyLmFrYy5vcmcvd3AtY29udGVudC91cGxvYWRzLzIwMTcvMTEvMDUwODU1MzEvUHVnLTEtcmVzaXplZC5qcGc=.jpg'}, '90': {'file_url': 'https://pugshome.com/wp-content/uploads/2017/01/pug-kisses.jpg', 'name': 'L3dwLWNvbnRlbnQvdXBsb2Fkcy8yMDE3LzAxL3B1Zy1raXNzZXMuanBn.jpg'}, '91': {'file_url': 'http://images6.fanpop.com/image/photos/41000000/A-Black-Pug-pugs-41042378-700-467.jpg', 'name': 'L2ltYWdlL3Bob3Rvcy80MTAwMDAwMC9BLUJsYWNrLVB1Zy1wdWdzLTQxMDQyMzc4LTcwMC00NjcuanBn.jpg'}, '92': {'file_url': 'http://www.petplan.com.au/blog/wp-content/uploads/2018/02/pug.jpg', 'name': 'L2Jsb2cvd3AtY29udGVudC91cGxvYWRzLzIwMTgvMDIvcHVnLmpwZw==.jpg'}, '93': {'file_url': 'https://i.ebayimg.com/images/g/jPoAAOSwbtNaQjNl/s-l300.jpg', 'name': 'L2ltYWdlcy9nL2pQb0FBT1N3YnROYVFqTmwvcy1sMzAwLmpwZw==.jpg'}, '94': {'file_url': 'https://pugshome.com/wp-content/uploads/2017/01/pug-kisses.jpg', 'name': 'L3dwLWNvbnRlbnQvdXBsb2Fkcy8yMDE3LzAxL3B1Zy1raXNzZXMuanBn.jpg'}, '95': {'file_url': 'http://images6.fanpop.com/image/photos/41000000/A-Black-Pug-pugs-41042378-700-467.jpg', 'name': 'L2ltYWdlL3Bob3Rvcy80MTAwMDAwMC9BLUJsYWNrLVB1Zy1wdWdzLTQxMDQyMzc4LTcwMC00NjcuanBn.jpg'}, '96': {'file_url': 'http://www.petplan.com.au/blog/wp-content/uploads/2018/02/pug.jpg', 'name': 'L2Jsb2cvd3AtY29udGVudC91cGxvYWRzLzIwMTgvMDIvcHVnLmpwZw==.jpg'}, '97': {'file_url': 'https://i.ebayimg.com/images/g/jPoAAOSwbtNaQjNl/s-l300.jpg', 'name': 'L2ltYWdlcy9nL2pQb0FBT1N3YnROYVFqTmwvcy1sMzAwLmpwZw==.jpg'}, '98': {'file_url': 'https://pugshome.com/wp-content/uploads/2017/01/pug-kisses.jpg', 'name': 'L3dwLWNvbnRlbnQvdXBsb2Fkcy8yMDE3LzAxL3B1Zy1raXNzZXMuanBn.jpg'}, '99': {'file_url': 'http://images6.fanpop.com/image/photos/41000000/A-Black-Pug-pugs-41042378-700-467.jpg', 'name': 'L2ltYWdlL3Bob3Rvcy80MTAwMDAwMC9BLUJsYWNrLVB1Zy1wdWdzLTQxMDQyMzc4LTcwMC00NjcuanBn.jpg'}, '100': {'file_url': 'http://www.petplan.com.au/blog/wp-content/uploads/2018/02/pug.jpg', 'name': 'L2Jsb2cvd3AtY29udGVudC91cGxvYWRzLzIwMTgvMDIvcHVnLmpwZw==.jpg'}, '101': {'file_url': 'https://i.ebayimg.com/images/g/jPoAAOSwbtNaQjNl/s-l300.jpg', 'name': 'L2ltYWdlcy9nL2pQb0FBT1N3YnROYVFqTmwvcy1sMzAwLmpwZw==.jpg'}, '102': {'file_url': 'https://upload.wikimedia.org/wikipedia/commons/6/6f/Pug_-_1_year_Old.jpg', 'name': 'L3dpa2lwZWRpYS9jb21tb25zLzYvNmYvUHVnXy1fMV95ZWFyX09sZC5qcGc=.jpg'}, '103': {'file_url': 'https://s3.amazonaws.com/cdn-origin-etr.akc.org/wp-content/uploads/2017/11/12225358/Pug-On-White-01.jpg', 'name': 'L2Nkbi1vcmlnaW4tZXRyLmFrYy5vcmcvd3AtY29udGVudC91cGxvYWRzLzIwMTcvMTEvMTIyMjUzNTgvUHVnLU9uLVdoaXRlLTAxLmpwZw==.jpg'}, '104': {'file_url': 'https://secure.img1-fg.wfcdn.com/im/53299221/compr-r85/4307/43074449/hanging-pug-puppy-statue.jpg', 'name': 'L2ltLzUzMjk5MjIxL2NvbXByLXI4NS80MzA3LzQzMDc0NDQ5L2hhbmdpbmctcHVnLXB1cHB5LXN0YXR1ZS5qcGc=.jpg'}, '105': {'file_url': 'https://s3.amazonaws.com/cdn-origin-etr.akc.org/wp-content/uploads/2017/11/05085531/Pug-1-resized.jpg', 'name': 'L2Nkbi1vcmlnaW4tZXRyLmFrYy5vcmcvd3AtY29udGVudC91cGxvYWRzLzIwMTcvMTEvMDUwODU1MzEvUHVnLTEtcmVzaXplZC5qcGc=.jpg'}, '106': {'file_url': 'https://pugshome.com/wp-content/uploads/2017/01/pug-kisses.jpg', 'name': 'L3dwLWNvbnRlbnQvdXBsb2Fkcy8yMDE3LzAxL3B1Zy1raXNzZXMuanBn.jpg'}, '107': {'file_url': 'http://images6.fanpop.com/image/photos/41000000/A-Black-Pug-pugs-41042378-700-467.jpg', 'name': 'L2ltYWdlL3Bob3Rvcy80MTAwMDAwMC9BLUJsYWNrLVB1Zy1wdWdzLTQxMDQyMzc4LTcwMC00NjcuanBn.jpg'}, '108': {'file_url': 'http://www.petplan.com.au/blog/wp-content/uploads/2018/02/pug.jpg', 'name': 'L2Jsb2cvd3AtY29udGVudC91cGxvYWRzLzIwMTgvMDIvcHVnLmpwZw==.jpg'}, '109': {'file_url': 'https://i.ebayimg.com/images/g/jPoAAOSwbtNaQjNl/s-l300.jpg', 'name': 'L2ltYWdlcy9nL2pQb0FBT1N3YnROYVFqTmwvcy1sMzAwLmpwZw==.jpg'}, '110': {'file_url': 'https://pugshome.com/wp-content/uploads/2017/01/pug-kisses.jpg', 'name': 'L3dwLWNvbnRlbnQvdXBsb2Fkcy8yMDE3LzAxL3B1Zy1raXNzZXMuanBn.jpg'}, '111': {'file_url': 'http://images6.fanpop.com/image/photos/41000000/A-Black-Pug-pugs-41042378-700-467.jpg', 'name': 'L2ltYWdlL3Bob3Rvcy80MTAwMDAwMC9BLUJsYWNrLVB1Zy1wdWdzLTQxMDQyMzc4LTcwMC00NjcuanBn.jpg'}, '112': {'file_url': 'http://www.petplan.com.au/blog/wp-content/uploads/2018/02/pug.jpg', 'name': 'L2Jsb2cvd3AtY29udGVudC91cGxvYWRzLzIwMTgvMDIvcHVnLmpwZw==.jpg'}, '113': {'file_url': 'https://i.ebayimg.com/images/g/jPoAAOSwbtNaQjNl/s-l300.jpg', 'name': 'L2ltYWdlcy9nL2pQb0FBT1N3YnROYVFqTmwvcy1sMzAwLmpwZw==.jpg'}, '114': {'file_url': 'https://pugshome.com/wp-content/uploads/2017/01/pug-kisses.jpg', 'name': 'L3dwLWNvbnRlbnQvdXBsb2Fkcy8yMDE3LzAxL3B1Zy1raXNzZXMuanBn.jpg'}, '115': {'file_url': 'http://images6.fanpop.com/image/photos/41000000/A-Black-Pug-pugs-41042378-700-467.jpg', 'name': 'L2ltYWdlL3Bob3Rvcy80MTAwMDAwMC9BLUJsYWNrLVB1Zy1wdWdzLTQxMDQyMzc4LTcwMC00NjcuanBn.jpg'}, '116': {'file_url': 'http://www.petplan.com.au/blog/wp-content/uploads/2018/02/pug.jpg', 'name': 'L2Jsb2cvd3AtY29udGVudC91cGxvYWRzLzIwMTgvMDIvcHVnLmpwZw==.jpg'}, '117': {'file_url': 'https://i.ebayimg.com/images/g/jPoAAOSwbtNaQjNl/s-l300.jpg', 'name': 'L2ltYWdlcy9nL2pQb0FBT1N3YnROYVFqTmwvcy1sMzAwLmpwZw==.jpg'}}\n"
     ]
    }
   ],
   "source": [
    "#import simplejson as json\n",
    "import json\n",
    "class_idx_path = '/Users/user/Downloads/Google_crawling/meta/구글메타_만개테스트_pug/구글메타_만개테스트_pug.json'\n",
    "json_data = open(class_idx_path).read()\n",
    "json_data = json.loads(json_data)\n",
    "# print(json_data)"
   ]
  },
  {
   "cell_type": "markdown",
   "metadata": {},
   "source": [
    "### 파일 갯수 확인 (zero-based index 따라서 index값+1개)"
   ]
  },
  {
   "cell_type": "code",
   "execution_count": 2,
   "metadata": {},
   "outputs": [
    {
     "data": {
      "text/plain": [
       "118"
      ]
     },
     "execution_count": 2,
     "metadata": {},
     "output_type": "execute_result"
    }
   ],
   "source": [
    "len(json_data)"
   ]
  },
  {
   "cell_type": "markdown",
   "metadata": {},
   "source": [
    "### temp에는 key - value값 삽입\n",
    "### dictlist은 위의 dict형식을(json파일) list로 만들어서 다시 저장함"
   ]
  },
  {
   "cell_type": "code",
   "execution_count": 3,
   "metadata": {},
   "outputs": [],
   "source": [
    "for key, value in json_data.items():\n",
    "    pass\n",
    "    # key, value값 확인 용도\n",
    "    # print(key, value)"
   ]
  },
  {
   "cell_type": "code",
   "execution_count": 4,
   "metadata": {},
   "outputs": [],
   "source": [
    "temp = []\n",
    "dictlist = []\n",
    "\n",
    "for key, value in json_data.items():\n",
    "    temp = [key,value]     # 원래도 list인데 이중 list로 처리해줌\n",
    "    dictlist.append(temp)"
   ]
  },
  {
   "cell_type": "code",
   "execution_count": 5,
   "metadata": {
    "scrolled": true
   },
   "outputs": [
    {
     "name": "stdout",
     "output_type": "stream",
     "text": [
      "[['0', {'file_url': 'https://www.pets4homes.co.uk/images/breeds/13/large/f154a6789fd8a3f4fcd1ef2b628d494f.jpg', 'name': 'L2ltYWdlcy9icmVlZHMvMTMvbGFyZ2UvZjE1NGE2Nzg5ZmQ4YTNmNGZjZDFlZjJiNjI4ZDQ5NGYuanBn.jpg'}], ['1', {'file_url': 'https://lookaside.fbsbx.com/lookaside/crawler/media/?media_id=607600402635002', 'name': 'L2xvb2thc2lkZS9jcmF3bGVyL21lZGlhLw==.jpg'}], ['2', {'file_url': 'http://www.petstorenepal.com/image/cache/catalog/dog/puppiesforsale/85a20d212ad65f38a707c16d424e1791-900x1050.jpg', 'name': 'L2ltYWdlL2NhY2hlL2NhdGFsb2cvZG9nL3B1cHBpZXNmb3JzYWxlLzg1YTIwZDIxMmFkNjVmMzhhNzA3YzE2ZDQyNGUxNzkxLTkwMHgxMDUwLmpwZw==.jpg'}], ['3', {'file_url': 'https://hips.hearstapps.com/hmg-prod.s3.amazonaws.com/images/doug-the-pug-1516375006.jpg?crop=0.984xw:0.722xh;0,0.264xh&resize=1200:*', 'name': 'L2htZy1wcm9kLnMzLmFtYXpvbmF3cy5jb20vaW1hZ2VzL2RvdWctdGhlLXB1Zy0xNTE2Mzc1MDA2LmpwZw==.jpg'}], ['4', {'file_url': 'https://barkingroyalty.com/wp-content/uploads/2017/02/pug-stop-snoring.jpg', 'name': 'L3dwLWNvbnRlbnQvdXBsb2Fkcy8yMDE3LzAyL3B1Zy1zdG9wLXNub3JpbmcuanBn.jpg'}], ['5', {'file_url': 'https://images-na.ssl-images-amazon.com/images/I/61oY4LvbLKL._UY395_.jpg', 'name': 'L2ltYWdlcy9JLzYxb1k0THZiTEtMLl9VWTM5NV8uanBn.jpg'}], ['6', {'file_url': 'https://images-na.ssl-images-amazon.com/images/I/61oY4LvbLKL._UY395_.jpg', 'name': 'L2ltYWdlcy9JLzYxb1k0THZiTEtMLl9VWTM5NV8uanBn.jpg'}], ['7', {'file_url': 'https://i.pinimg.com/originals/fe/16/9e/fe169e836b16a9cc6fa7b85705884181.jpg', 'name': 'L29yaWdpbmFscy9mZS8xNi85ZS9mZTE2OWU4MzZiMTZhOWNjNmZhN2I4NTcwNTg4NDE4MS5qcGc=.jpg'}], ['8', {'file_url': 'http://mapr.ggwz.us/images/mapr/rescues/auto/2049.jpg', 'name': 'L2ltYWdlcy9tYXByL3Jlc2N1ZXMvYXV0by8yMDQ5LmpwZw==.jpg'}], ['9', {'file_url': 'https://pugshome.com/wp-content/uploads/2017/01/pug-kisses.jpg', 'name': 'L3dwLWNvbnRlbnQvdXBsb2Fkcy8yMDE3LzAxL3B1Zy1raXNzZXMuanBn.jpg'}], ['10', {'file_url': 'https://imgix.ranker.com/user_node_img/50026/1000504468/original/big-eyes-photo-u1?w=650&q=50&fm=pjpg&fit=crop&crop=faces', 'name': 'L3VzZXJfbm9kZV9pbWcvNTAwMjYvMTAwMDUwNDQ2OC9vcmlnaW5hbC9iaWctZXllcy1waG90by11MQ==.jpg'}], ['11', {'file_url': 'https://i.pinimg.com/originals/a3/be/06/a3be0684f782c6b276df4055de75f341.jpg', 'name': 'L29yaWdpbmFscy9hMy9iZS8wNi9hM2JlMDY4NGY3ODJjNmIyNzZkZjQwNTVkZTc1ZjM0MS5qcGc=.jpg'}], ['12', {'file_url': 'http://www.petstorenepal.com/image/cache/catalog/dog/puppiesforsale/85a20d212ad65f38a707c16d424e1791-900x1050.jpg', 'name': 'L2ltYWdlL2NhY2hlL2NhdGFsb2cvZG9nL3B1cHBpZXNmb3JzYWxlLzg1YTIwZDIxMmFkNjVmMzhhNzA3YzE2ZDQyNGUxNzkxLTkwMHgxMDUwLmpwZw==.jpg'}], ['13', {'file_url': 'https://usatftw.files.wordpress.com/2014/09/afp-533122985.jpg?w=1000&h=600&crop=1', 'name': 'LzIwMTQvMDkvYWZwLTUzMzEyMjk4NS5qcGc=.jpg'}], ['14', {'file_url': 'https://cdn1-www.dogtime.com/assets/uploads/gallery/pug-dog-breed-pictures/5-seniorprofile.jpg', 'name': 'L2Fzc2V0cy91cGxvYWRzL2dhbGxlcnkvcHVnLWRvZy1icmVlZC1waWN0dXJlcy81LXNlbmlvcnByb2ZpbGUuanBn.jpg'}], ['15', {'file_url': 'https://images-ra.adoptapet.com/seo/1/h/96_h.png', 'name': 'L3Nlby8xL2gvOTZfaC5wbmc=.png'}], ['16', {'file_url': 'https://i.pinimg.com/originals/a3/be/06/a3be0684f782c6b276df4055de75f341.jpg', 'name': 'L29yaWdpbmFscy9hMy9iZS8wNi9hM2JlMDY4NGY3ODJjNmIyNzZkZjQwNTVkZTc1ZjM0MS5qcGc=.jpg'}], ['17', {'file_url': 'https://www.claires.com/on/demandware.static/-/Library-Sites-claires-library/default/dw61fa53f4/cat-landing-pages/doug-the-pug-clp/DougThePug-3-New-Galaxy-2560x1440.jpg', 'name': 'L29uL2RlbWFuZHdhcmUuc3RhdGljLy0vTGlicmFyeS1TaXRlcy1jbGFpcmVzLWxpYnJhcnkvZGVmYXVsdC9kdzYxZmE1M2Y0L2NhdC1sYW5kaW5nLXBhZ2VzL2RvdWctdGhlLXB1Zy1jbHAvRG91Z1RoZVB1Zy0zLU5ldy1HYWxheHktMjU2MHgxNDQwLmpwZw==.jpg'}], ['18', {'file_url': 'https://imgix.ranker.com/user_node_img/50026/1000504480/original/puppy-cuddle-photo-u1?w=650&q=50&fm=pjpg&fit=crop&crop=faces', 'name': 'L3VzZXJfbm9kZV9pbWcvNTAwMjYvMTAwMDUwNDQ4MC9vcmlnaW5hbC9wdXBweS1jdWRkbGUtcGhvdG8tdTE=.jpg'}], ['19', {'file_url': 'https://imgix.ranker.com/user_node_img/50026/1000504468/original/big-eyes-photo-u1?w=650&q=50&fm=pjpg&fit=crop&crop=faces', 'name': 'L3VzZXJfbm9kZV9pbWcvNTAwMjYvMTAwMDUwNDQ2OC9vcmlnaW5hbC9iaWctZXllcy1waG90by11MQ==.jpg'}], ['20', {'file_url': 'https://upload.wikimedia.org/wikipedia/commons/6/6f/Pug_-_1_year_Old.jpg', 'name': 'L3dpa2lwZWRpYS9jb21tb25zLzYvNmYvUHVnXy1fMV95ZWFyX09sZC5qcGc=.jpg'}], ['21', {'file_url': 'https://s3.amazonaws.com/cdn-origin-etr.akc.org/wp-content/uploads/2017/11/12225358/Pug-On-White-01.jpg', 'name': 'L2Nkbi1vcmlnaW4tZXRyLmFrYy5vcmcvd3AtY29udGVudC91cGxvYWRzLzIwMTcvMTEvMTIyMjUzNTgvUHVnLU9uLVdoaXRlLTAxLmpwZw==.jpg'}], ['22', {'file_url': 'https://secure.img1-fg.wfcdn.com/im/53299221/compr-r85/4307/43074449/hanging-pug-puppy-statue.jpg', 'name': 'L2ltLzUzMjk5MjIxL2NvbXByLXI4NS80MzA3LzQzMDc0NDQ5L2hhbmdpbmctcHVnLXB1cHB5LXN0YXR1ZS5qcGc=.jpg'}], ['23', {'file_url': 'https://s3.amazonaws.com/cdn-origin-etr.akc.org/wp-content/uploads/2017/11/05085531/Pug-1-resized.jpg', 'name': 'L2Nkbi1vcmlnaW4tZXRyLmFrYy5vcmcvd3AtY29udGVudC91cGxvYWRzLzIwMTcvMTEvMDUwODU1MzEvUHVnLTEtcmVzaXplZC5qcGc=.jpg'}], ['24', {'file_url': 'https://gfnc1kn6pi-flywheel.netdna-ssl.com/wp-content/uploads/2018/06/best-food-for-pug-puppies-header.jpg', 'name': 'L3dwLWNvbnRlbnQvdXBsb2Fkcy8yMDE4LzA2L2Jlc3QtZm9vZC1mb3ItcHVnLXB1cHBpZXMtaGVhZGVyLmpwZw==.jpg'}], ['25', {'file_url': 'https://i.ytimg.com/vi/wRx3Uvcktm8/maxresdefault.jpg', 'name': 'L3ZpL3dSeDNVdmNrdG04L21heHJlc2RlZmF1bHQuanBn.jpg'}], ['26', {'file_url': 'https://images-na.ssl-images-amazon.com/images/I/71gRnoHe%2BTL._UY550_.jpg', 'name': 'L2ltYWdlcy9JLzcxZ1Jub0hlJTJCVEwuX1VZNTUwXy5qcGc=.jpg'}], ['27', {'file_url': 'https://vetstreet.brightspotcdn.com/dims4/default/354d0cf/2147483647/thumbnail/645x380/quality/90/?url=https%3A%2F%2Fvetstreet-brightspot.s3.amazonaws.com%2Fdc%2Fc4%2F8ccd3a28438d81b2f2f5d8031a05%2Fpug-ap-r82p3q-645.jpg', 'name': 'L2RpbXM0L2RlZmF1bHQvMzU0ZDBjZi8yMTQ3NDgzNjQ3L3RodW1ibmFpbC82NDV4MzgwL3F1YWxpdHkvOTAv.jpg'}], ['28', {'file_url': 'https://cdn1-www.dogtime.com/assets/uploads/gallery/pug-dog-breed-pictures/2-face.jpg', 'name': 'L2Fzc2V0cy91cGxvYWRzL2dhbGxlcnkvcHVnLWRvZy1icmVlZC1waWN0dXJlcy8yLWZhY2UuanBn.jpg'}], ['29', {'file_url': 'https://images-ra.adoptapet.com/seo/1/h/96_h.png', 'name': 'L3Nlby8xL2gvOTZfaC5wbmc=.png'}], ['30', {'file_url': 'https://pugshome.com/wp-content/uploads/2017/01/pug-kisses.jpg', 'name': 'L3dwLWNvbnRlbnQvdXBsb2Fkcy8yMDE3LzAxL3B1Zy1raXNzZXMuanBn.jpg'}], ['31', {'file_url': 'https://imgix.ranker.com/user_node_img/50026/1000504480/original/puppy-cuddle-photo-u1?w=650&q=50&fm=pjpg&fit=crop&crop=faces', 'name': 'L3VzZXJfbm9kZV9pbWcvNTAwMjYvMTAwMDUwNDQ4MC9vcmlnaW5hbC9wdXBweS1jdWRkbGUtcGhvdG8tdTE=.jpg'}], ['32', {'file_url': 'https://gfnc1kn6pi-flywheel.netdna-ssl.com/wp-content/uploads/2018/07/black-pug-RJ-long.jpg', 'name': 'L3dwLWNvbnRlbnQvdXBsb2Fkcy8yMDE4LzA3L2JsYWNrLXB1Zy1SSi1sb25nLmpwZw==.jpg'}], ['33', {'file_url': 'https://www.petguide.com/wp-content/uploads/2013/02/pug1.jpg', 'name': 'L3dwLWNvbnRlbnQvdXBsb2Fkcy8yMDEzLzAyL3B1ZzEuanBn.jpg'}], ['34', {'file_url': 'https://s3.amazonaws.com/cdn-origin-etr.akc.org/wp-content/uploads/2017/11/12225427/Pug-Care.jpg', 'name': 'L2Nkbi1vcmlnaW4tZXRyLmFrYy5vcmcvd3AtY29udGVudC91cGxvYWRzLzIwMTcvMTEvMTIyMjU0MjcvUHVnLUNhcmUuanBn.jpg'}], ['35', {'file_url': 'https://upload.wikimedia.org/wikipedia/commons/6/6f/Pug_-_1_year_Old.jpg', 'name': 'L3dpa2lwZWRpYS9jb21tb25zLzYvNmYvUHVnXy1fMV95ZWFyX09sZC5qcGc=.jpg'}], ['36', {'file_url': 'https://s3.amazonaws.com/cdn-origin-etr.akc.org/wp-content/uploads/2017/11/12225358/Pug-On-White-01.jpg', 'name': 'L2Nkbi1vcmlnaW4tZXRyLmFrYy5vcmcvd3AtY29udGVudC91cGxvYWRzLzIwMTcvMTEvMTIyMjUzNTgvUHVnLU9uLVdoaXRlLTAxLmpwZw==.jpg'}], ['37', {'file_url': 'https://secure.img1-fg.wfcdn.com/im/53299221/compr-r85/4307/43074449/hanging-pug-puppy-statue.jpg', 'name': 'L2ltLzUzMjk5MjIxL2NvbXByLXI4NS80MzA3LzQzMDc0NDQ5L2hhbmdpbmctcHVnLXB1cHB5LXN0YXR1ZS5qcGc=.jpg'}], ['38', {'file_url': 'https://s3.amazonaws.com/cdn-origin-etr.akc.org/wp-content/uploads/2017/11/05085531/Pug-1-resized.jpg', 'name': 'L2Nkbi1vcmlnaW4tZXRyLmFrYy5vcmcvd3AtY29udGVudC91cGxvYWRzLzIwMTcvMTEvMDUwODU1MzEvUHVnLTEtcmVzaXplZC5qcGc=.jpg'}], ['39', {'file_url': 'https://i.ytimg.com/vi/wRx3Uvcktm8/maxresdefault.jpg', 'name': 'L3ZpL3dSeDNVdmNrdG04L21heHJlc2RlZmF1bHQuanBn.jpg'}], ['40', {'file_url': 'https://cdn3-www.dogtime.com/assets/uploads/2011/01/file_23124_pug-460x290.jpg', 'name': 'L2Fzc2V0cy91cGxvYWRzLzIwMTEvMDEvZmlsZV8yMzEyNF9wdWctNDYweDI5MC5qcGc=.jpg'}], ['41', {'file_url': 'https://gfnc1kn6pi-flywheel.netdna-ssl.com/wp-content/uploads/2018/06/best-food-for-pug-puppies-header.jpg', 'name': 'L3dwLWNvbnRlbnQvdXBsb2Fkcy8yMDE4LzA2L2Jlc3QtZm9vZC1mb3ItcHVnLXB1cHBpZXMtaGVhZGVyLmpwZw==.jpg'}], ['42', {'file_url': 'https://pugshome.com/wp-content/uploads/2017/01/pug-kisses.jpg', 'name': 'L3dwLWNvbnRlbnQvdXBsb2Fkcy8yMDE3LzAxL3B1Zy1raXNzZXMuanBn.jpg'}], ['43', {'file_url': 'http://images6.fanpop.com/image/photos/41000000/A-Black-Pug-pugs-41042378-700-467.jpg', 'name': 'L2ltYWdlL3Bob3Rvcy80MTAwMDAwMC9BLUJsYWNrLVB1Zy1wdWdzLTQxMDQyMzc4LTcwMC00NjcuanBn.jpg'}], ['44', {'file_url': 'http://www.petplan.com.au/blog/wp-content/uploads/2018/02/pug.jpg', 'name': 'L2Jsb2cvd3AtY29udGVudC91cGxvYWRzLzIwMTgvMDIvcHVnLmpwZw==.jpg'}], ['45', {'file_url': 'https://i.ebayimg.com/images/g/jPoAAOSwbtNaQjNl/s-l300.jpg', 'name': 'L2ltYWdlcy9nL2pQb0FBT1N3YnROYVFqTmwvcy1sMzAwLmpwZw==.jpg'}], ['46', {'file_url': 'https://pugshome.com/wp-content/uploads/2017/01/pug-kisses.jpg', 'name': 'L3dwLWNvbnRlbnQvdXBsb2Fkcy8yMDE3LzAxL3B1Zy1raXNzZXMuanBn.jpg'}], ['47', {'file_url': 'http://images6.fanpop.com/image/photos/41000000/A-Black-Pug-pugs-41042378-700-467.jpg', 'name': 'L2ltYWdlL3Bob3Rvcy80MTAwMDAwMC9BLUJsYWNrLVB1Zy1wdWdzLTQxMDQyMzc4LTcwMC00NjcuanBn.jpg'}], ['48', {'file_url': 'http://www.petplan.com.au/blog/wp-content/uploads/2018/02/pug.jpg', 'name': 'L2Jsb2cvd3AtY29udGVudC91cGxvYWRzLzIwMTgvMDIvcHVnLmpwZw==.jpg'}], ['49', {'file_url': 'https://i.ebayimg.com/images/g/jPoAAOSwbtNaQjNl/s-l300.jpg', 'name': 'L2ltYWdlcy9nL2pQb0FBT1N3YnROYVFqTmwvcy1sMzAwLmpwZw==.jpg'}], ['50', {'file_url': 'https://pugshome.com/wp-content/uploads/2017/01/pug-kisses.jpg', 'name': 'L3dwLWNvbnRlbnQvdXBsb2Fkcy8yMDE3LzAxL3B1Zy1raXNzZXMuanBn.jpg'}], ['51', {'file_url': 'http://images6.fanpop.com/image/photos/41000000/A-Black-Pug-pugs-41042378-700-467.jpg', 'name': 'L2ltYWdlL3Bob3Rvcy80MTAwMDAwMC9BLUJsYWNrLVB1Zy1wdWdzLTQxMDQyMzc4LTcwMC00NjcuanBn.jpg'}], ['52', {'file_url': 'http://www.petplan.com.au/blog/wp-content/uploads/2018/02/pug.jpg', 'name': 'L2Jsb2cvd3AtY29udGVudC91cGxvYWRzLzIwMTgvMDIvcHVnLmpwZw==.jpg'}], ['53', {'file_url': 'https://i.ebayimg.com/images/g/jPoAAOSwbtNaQjNl/s-l300.jpg', 'name': 'L2ltYWdlcy9nL2pQb0FBT1N3YnROYVFqTmwvcy1sMzAwLmpwZw==.jpg'}], ['54', {'file_url': 'https://upload.wikimedia.org/wikipedia/commons/6/6f/Pug_-_1_year_Old.jpg', 'name': 'L3dpa2lwZWRpYS9jb21tb25zLzYvNmYvUHVnXy1fMV95ZWFyX09sZC5qcGc=.jpg'}], ['55', {'file_url': 'https://s3.amazonaws.com/cdn-origin-etr.akc.org/wp-content/uploads/2017/11/12225358/Pug-On-White-01.jpg', 'name': 'L2Nkbi1vcmlnaW4tZXRyLmFrYy5vcmcvd3AtY29udGVudC91cGxvYWRzLzIwMTcvMTEvMTIyMjUzNTgvUHVnLU9uLVdoaXRlLTAxLmpwZw==.jpg'}], ['56', {'file_url': 'https://secure.img1-fg.wfcdn.com/im/53299221/compr-r85/4307/43074449/hanging-pug-puppy-statue.jpg', 'name': 'L2ltLzUzMjk5MjIxL2NvbXByLXI4NS80MzA3LzQzMDc0NDQ5L2hhbmdpbmctcHVnLXB1cHB5LXN0YXR1ZS5qcGc=.jpg'}], ['57', {'file_url': 'https://s3.amazonaws.com/cdn-origin-etr.akc.org/wp-content/uploads/2017/11/05085531/Pug-1-resized.jpg', 'name': 'L2Nkbi1vcmlnaW4tZXRyLmFrYy5vcmcvd3AtY29udGVudC91cGxvYWRzLzIwMTcvMTEvMDUwODU1MzEvUHVnLTEtcmVzaXplZC5qcGc=.jpg'}], ['58', {'file_url': 'https://upload.wikimedia.org/wikipedia/commons/6/6f/Pug_-_1_year_Old.jpg', 'name': 'L3dpa2lwZWRpYS9jb21tb25zLzYvNmYvUHVnXy1fMV95ZWFyX09sZC5qcGc=.jpg'}], ['59', {'file_url': 'https://s3.amazonaws.com/cdn-origin-etr.akc.org/wp-content/uploads/2017/11/12225358/Pug-On-White-01.jpg', 'name': 'L2Nkbi1vcmlnaW4tZXRyLmFrYy5vcmcvd3AtY29udGVudC91cGxvYWRzLzIwMTcvMTEvMTIyMjUzNTgvUHVnLU9uLVdoaXRlLTAxLmpwZw==.jpg'}], ['60', {'file_url': 'https://secure.img1-fg.wfcdn.com/im/53299221/compr-r85/4307/43074449/hanging-pug-puppy-statue.jpg', 'name': 'L2ltLzUzMjk5MjIxL2NvbXByLXI4NS80MzA3LzQzMDc0NDQ5L2hhbmdpbmctcHVnLXB1cHB5LXN0YXR1ZS5qcGc=.jpg'}], ['61', {'file_url': 'https://s3.amazonaws.com/cdn-origin-etr.akc.org/wp-content/uploads/2017/11/05085531/Pug-1-resized.jpg', 'name': 'L2Nkbi1vcmlnaW4tZXRyLmFrYy5vcmcvd3AtY29udGVudC91cGxvYWRzLzIwMTcvMTEvMDUwODU1MzEvUHVnLTEtcmVzaXplZC5qcGc=.jpg'}], ['62', {'file_url': 'https://pugshome.com/wp-content/uploads/2017/01/pug-kisses.jpg', 'name': 'L3dwLWNvbnRlbnQvdXBsb2Fkcy8yMDE3LzAxL3B1Zy1raXNzZXMuanBn.jpg'}], ['63', {'file_url': 'http://images6.fanpop.com/image/photos/41000000/A-Black-Pug-pugs-41042378-700-467.jpg', 'name': 'L2ltYWdlL3Bob3Rvcy80MTAwMDAwMC9BLUJsYWNrLVB1Zy1wdWdzLTQxMDQyMzc4LTcwMC00NjcuanBn.jpg'}], ['64', {'file_url': 'http://www.petplan.com.au/blog/wp-content/uploads/2018/02/pug.jpg', 'name': 'L2Jsb2cvd3AtY29udGVudC91cGxvYWRzLzIwMTgvMDIvcHVnLmpwZw==.jpg'}], ['65', {'file_url': 'https://i.ebayimg.com/images/g/jPoAAOSwbtNaQjNl/s-l300.jpg', 'name': 'L2ltYWdlcy9nL2pQb0FBT1N3YnROYVFqTmwvcy1sMzAwLmpwZw==.jpg'}], ['66', {'file_url': 'https://upload.wikimedia.org/wikipedia/commons/6/6f/Pug_-_1_year_Old.jpg', 'name': 'L3dpa2lwZWRpYS9jb21tb25zLzYvNmYvUHVnXy1fMV95ZWFyX09sZC5qcGc=.jpg'}], ['67', {'file_url': 'https://s3.amazonaws.com/cdn-origin-etr.akc.org/wp-content/uploads/2017/11/12225358/Pug-On-White-01.jpg', 'name': 'L2Nkbi1vcmlnaW4tZXRyLmFrYy5vcmcvd3AtY29udGVudC91cGxvYWRzLzIwMTcvMTEvMTIyMjUzNTgvUHVnLU9uLVdoaXRlLTAxLmpwZw==.jpg'}], ['68', {'file_url': 'https://secure.img1-fg.wfcdn.com/im/53299221/compr-r85/4307/43074449/hanging-pug-puppy-statue.jpg', 'name': 'L2ltLzUzMjk5MjIxL2NvbXByLXI4NS80MzA3LzQzMDc0NDQ5L2hhbmdpbmctcHVnLXB1cHB5LXN0YXR1ZS5qcGc=.jpg'}], ['69', {'file_url': 'https://s3.amazonaws.com/cdn-origin-etr.akc.org/wp-content/uploads/2017/11/05085531/Pug-1-resized.jpg', 'name': 'L2Nkbi1vcmlnaW4tZXRyLmFrYy5vcmcvd3AtY29udGVudC91cGxvYWRzLzIwMTcvMTEvMDUwODU1MzEvUHVnLTEtcmVzaXplZC5qcGc=.jpg'}], ['70', {'file_url': 'https://upload.wikimedia.org/wikipedia/commons/6/6f/Pug_-_1_year_Old.jpg', 'name': 'L3dpa2lwZWRpYS9jb21tb25zLzYvNmYvUHVnXy1fMV95ZWFyX09sZC5qcGc=.jpg'}], ['71', {'file_url': 'https://s3.amazonaws.com/cdn-origin-etr.akc.org/wp-content/uploads/2017/11/12225358/Pug-On-White-01.jpg', 'name': 'L2Nkbi1vcmlnaW4tZXRyLmFrYy5vcmcvd3AtY29udGVudC91cGxvYWRzLzIwMTcvMTEvMTIyMjUzNTgvUHVnLU9uLVdoaXRlLTAxLmpwZw==.jpg'}], ['72', {'file_url': 'https://secure.img1-fg.wfcdn.com/im/53299221/compr-r85/4307/43074449/hanging-pug-puppy-statue.jpg', 'name': 'L2ltLzUzMjk5MjIxL2NvbXByLXI4NS80MzA3LzQzMDc0NDQ5L2hhbmdpbmctcHVnLXB1cHB5LXN0YXR1ZS5qcGc=.jpg'}], ['73', {'file_url': 'https://s3.amazonaws.com/cdn-origin-etr.akc.org/wp-content/uploads/2017/11/05085531/Pug-1-resized.jpg', 'name': 'L2Nkbi1vcmlnaW4tZXRyLmFrYy5vcmcvd3AtY29udGVudC91cGxvYWRzLzIwMTcvMTEvMDUwODU1MzEvUHVnLTEtcmVzaXplZC5qcGc=.jpg'}], ['74', {'file_url': 'https://upload.wikimedia.org/wikipedia/commons/6/6f/Pug_-_1_year_Old.jpg', 'name': 'L3dpa2lwZWRpYS9jb21tb25zLzYvNmYvUHVnXy1fMV95ZWFyX09sZC5qcGc=.jpg'}], ['75', {'file_url': 'https://s3.amazonaws.com/cdn-origin-etr.akc.org/wp-content/uploads/2017/11/12225358/Pug-On-White-01.jpg', 'name': 'L2Nkbi1vcmlnaW4tZXRyLmFrYy5vcmcvd3AtY29udGVudC91cGxvYWRzLzIwMTcvMTEvMTIyMjUzNTgvUHVnLU9uLVdoaXRlLTAxLmpwZw==.jpg'}], ['76', {'file_url': 'https://secure.img1-fg.wfcdn.com/im/53299221/compr-r85/4307/43074449/hanging-pug-puppy-statue.jpg', 'name': 'L2ltLzUzMjk5MjIxL2NvbXByLXI4NS80MzA3LzQzMDc0NDQ5L2hhbmdpbmctcHVnLXB1cHB5LXN0YXR1ZS5qcGc=.jpg'}], ['77', {'file_url': 'https://s3.amazonaws.com/cdn-origin-etr.akc.org/wp-content/uploads/2017/11/05085531/Pug-1-resized.jpg', 'name': 'L2Nkbi1vcmlnaW4tZXRyLmFrYy5vcmcvd3AtY29udGVudC91cGxvYWRzLzIwMTcvMTEvMDUwODU1MzEvUHVnLTEtcmVzaXplZC5qcGc=.jpg'}], ['78', {'file_url': 'https://upload.wikimedia.org/wikipedia/commons/6/6f/Pug_-_1_year_Old.jpg', 'name': 'L3dpa2lwZWRpYS9jb21tb25zLzYvNmYvUHVnXy1fMV95ZWFyX09sZC5qcGc=.jpg'}], ['79', {'file_url': 'https://s3.amazonaws.com/cdn-origin-etr.akc.org/wp-content/uploads/2017/11/12225358/Pug-On-White-01.jpg', 'name': 'L2Nkbi1vcmlnaW4tZXRyLmFrYy5vcmcvd3AtY29udGVudC91cGxvYWRzLzIwMTcvMTEvMTIyMjUzNTgvUHVnLU9uLVdoaXRlLTAxLmpwZw==.jpg'}], ['80', {'file_url': 'https://secure.img1-fg.wfcdn.com/im/53299221/compr-r85/4307/43074449/hanging-pug-puppy-statue.jpg', 'name': 'L2ltLzUzMjk5MjIxL2NvbXByLXI4NS80MzA3LzQzMDc0NDQ5L2hhbmdpbmctcHVnLXB1cHB5LXN0YXR1ZS5qcGc=.jpg'}], ['81', {'file_url': 'https://s3.amazonaws.com/cdn-origin-etr.akc.org/wp-content/uploads/2017/11/05085531/Pug-1-resized.jpg', 'name': 'L2Nkbi1vcmlnaW4tZXRyLmFrYy5vcmcvd3AtY29udGVudC91cGxvYWRzLzIwMTcvMTEvMDUwODU1MzEvUHVnLTEtcmVzaXplZC5qcGc=.jpg'}], ['82', {'file_url': 'https://upload.wikimedia.org/wikipedia/commons/6/6f/Pug_-_1_year_Old.jpg', 'name': 'L3dpa2lwZWRpYS9jb21tb25zLzYvNmYvUHVnXy1fMV95ZWFyX09sZC5qcGc=.jpg'}], ['83', {'file_url': 'https://s3.amazonaws.com/cdn-origin-etr.akc.org/wp-content/uploads/2017/11/12225358/Pug-On-White-01.jpg', 'name': 'L2Nkbi1vcmlnaW4tZXRyLmFrYy5vcmcvd3AtY29udGVudC91cGxvYWRzLzIwMTcvMTEvMTIyMjUzNTgvUHVnLU9uLVdoaXRlLTAxLmpwZw==.jpg'}], ['84', {'file_url': 'https://secure.img1-fg.wfcdn.com/im/53299221/compr-r85/4307/43074449/hanging-pug-puppy-statue.jpg', 'name': 'L2ltLzUzMjk5MjIxL2NvbXByLXI4NS80MzA3LzQzMDc0NDQ5L2hhbmdpbmctcHVnLXB1cHB5LXN0YXR1ZS5qcGc=.jpg'}], ['85', {'file_url': 'https://s3.amazonaws.com/cdn-origin-etr.akc.org/wp-content/uploads/2017/11/05085531/Pug-1-resized.jpg', 'name': 'L2Nkbi1vcmlnaW4tZXRyLmFrYy5vcmcvd3AtY29udGVudC91cGxvYWRzLzIwMTcvMTEvMDUwODU1MzEvUHVnLTEtcmVzaXplZC5qcGc=.jpg'}], ['86', {'file_url': 'https://upload.wikimedia.org/wikipedia/commons/6/6f/Pug_-_1_year_Old.jpg', 'name': 'L3dpa2lwZWRpYS9jb21tb25zLzYvNmYvUHVnXy1fMV95ZWFyX09sZC5qcGc=.jpg'}], ['87', {'file_url': 'https://s3.amazonaws.com/cdn-origin-etr.akc.org/wp-content/uploads/2017/11/12225358/Pug-On-White-01.jpg', 'name': 'L2Nkbi1vcmlnaW4tZXRyLmFrYy5vcmcvd3AtY29udGVudC91cGxvYWRzLzIwMTcvMTEvMTIyMjUzNTgvUHVnLU9uLVdoaXRlLTAxLmpwZw==.jpg'}], ['88', {'file_url': 'https://secure.img1-fg.wfcdn.com/im/53299221/compr-r85/4307/43074449/hanging-pug-puppy-statue.jpg', 'name': 'L2ltLzUzMjk5MjIxL2NvbXByLXI4NS80MzA3LzQzMDc0NDQ5L2hhbmdpbmctcHVnLXB1cHB5LXN0YXR1ZS5qcGc=.jpg'}], ['89', {'file_url': 'https://s3.amazonaws.com/cdn-origin-etr.akc.org/wp-content/uploads/2017/11/05085531/Pug-1-resized.jpg', 'name': 'L2Nkbi1vcmlnaW4tZXRyLmFrYy5vcmcvd3AtY29udGVudC91cGxvYWRzLzIwMTcvMTEvMDUwODU1MzEvUHVnLTEtcmVzaXplZC5qcGc=.jpg'}], ['90', {'file_url': 'https://pugshome.com/wp-content/uploads/2017/01/pug-kisses.jpg', 'name': 'L3dwLWNvbnRlbnQvdXBsb2Fkcy8yMDE3LzAxL3B1Zy1raXNzZXMuanBn.jpg'}], ['91', {'file_url': 'http://images6.fanpop.com/image/photos/41000000/A-Black-Pug-pugs-41042378-700-467.jpg', 'name': 'L2ltYWdlL3Bob3Rvcy80MTAwMDAwMC9BLUJsYWNrLVB1Zy1wdWdzLTQxMDQyMzc4LTcwMC00NjcuanBn.jpg'}], ['92', {'file_url': 'http://www.petplan.com.au/blog/wp-content/uploads/2018/02/pug.jpg', 'name': 'L2Jsb2cvd3AtY29udGVudC91cGxvYWRzLzIwMTgvMDIvcHVnLmpwZw==.jpg'}], ['93', {'file_url': 'https://i.ebayimg.com/images/g/jPoAAOSwbtNaQjNl/s-l300.jpg', 'name': 'L2ltYWdlcy9nL2pQb0FBT1N3YnROYVFqTmwvcy1sMzAwLmpwZw==.jpg'}], ['94', {'file_url': 'https://pugshome.com/wp-content/uploads/2017/01/pug-kisses.jpg', 'name': 'L3dwLWNvbnRlbnQvdXBsb2Fkcy8yMDE3LzAxL3B1Zy1raXNzZXMuanBn.jpg'}], ['95', {'file_url': 'http://images6.fanpop.com/image/photos/41000000/A-Black-Pug-pugs-41042378-700-467.jpg', 'name': 'L2ltYWdlL3Bob3Rvcy80MTAwMDAwMC9BLUJsYWNrLVB1Zy1wdWdzLTQxMDQyMzc4LTcwMC00NjcuanBn.jpg'}], ['96', {'file_url': 'http://www.petplan.com.au/blog/wp-content/uploads/2018/02/pug.jpg', 'name': 'L2Jsb2cvd3AtY29udGVudC91cGxvYWRzLzIwMTgvMDIvcHVnLmpwZw==.jpg'}], ['97', {'file_url': 'https://i.ebayimg.com/images/g/jPoAAOSwbtNaQjNl/s-l300.jpg', 'name': 'L2ltYWdlcy9nL2pQb0FBT1N3YnROYVFqTmwvcy1sMzAwLmpwZw==.jpg'}], ['98', {'file_url': 'https://pugshome.com/wp-content/uploads/2017/01/pug-kisses.jpg', 'name': 'L3dwLWNvbnRlbnQvdXBsb2Fkcy8yMDE3LzAxL3B1Zy1raXNzZXMuanBn.jpg'}], ['99', {'file_url': 'http://images6.fanpop.com/image/photos/41000000/A-Black-Pug-pugs-41042378-700-467.jpg', 'name': 'L2ltYWdlL3Bob3Rvcy80MTAwMDAwMC9BLUJsYWNrLVB1Zy1wdWdzLTQxMDQyMzc4LTcwMC00NjcuanBn.jpg'}], ['100', {'file_url': 'http://www.petplan.com.au/blog/wp-content/uploads/2018/02/pug.jpg', 'name': 'L2Jsb2cvd3AtY29udGVudC91cGxvYWRzLzIwMTgvMDIvcHVnLmpwZw==.jpg'}], ['101', {'file_url': 'https://i.ebayimg.com/images/g/jPoAAOSwbtNaQjNl/s-l300.jpg', 'name': 'L2ltYWdlcy9nL2pQb0FBT1N3YnROYVFqTmwvcy1sMzAwLmpwZw==.jpg'}], ['102', {'file_url': 'https://upload.wikimedia.org/wikipedia/commons/6/6f/Pug_-_1_year_Old.jpg', 'name': 'L3dpa2lwZWRpYS9jb21tb25zLzYvNmYvUHVnXy1fMV95ZWFyX09sZC5qcGc=.jpg'}], ['103', {'file_url': 'https://s3.amazonaws.com/cdn-origin-etr.akc.org/wp-content/uploads/2017/11/12225358/Pug-On-White-01.jpg', 'name': 'L2Nkbi1vcmlnaW4tZXRyLmFrYy5vcmcvd3AtY29udGVudC91cGxvYWRzLzIwMTcvMTEvMTIyMjUzNTgvUHVnLU9uLVdoaXRlLTAxLmpwZw==.jpg'}], ['104', {'file_url': 'https://secure.img1-fg.wfcdn.com/im/53299221/compr-r85/4307/43074449/hanging-pug-puppy-statue.jpg', 'name': 'L2ltLzUzMjk5MjIxL2NvbXByLXI4NS80MzA3LzQzMDc0NDQ5L2hhbmdpbmctcHVnLXB1cHB5LXN0YXR1ZS5qcGc=.jpg'}], ['105', {'file_url': 'https://s3.amazonaws.com/cdn-origin-etr.akc.org/wp-content/uploads/2017/11/05085531/Pug-1-resized.jpg', 'name': 'L2Nkbi1vcmlnaW4tZXRyLmFrYy5vcmcvd3AtY29udGVudC91cGxvYWRzLzIwMTcvMTEvMDUwODU1MzEvUHVnLTEtcmVzaXplZC5qcGc=.jpg'}], ['106', {'file_url': 'https://pugshome.com/wp-content/uploads/2017/01/pug-kisses.jpg', 'name': 'L3dwLWNvbnRlbnQvdXBsb2Fkcy8yMDE3LzAxL3B1Zy1raXNzZXMuanBn.jpg'}], ['107', {'file_url': 'http://images6.fanpop.com/image/photos/41000000/A-Black-Pug-pugs-41042378-700-467.jpg', 'name': 'L2ltYWdlL3Bob3Rvcy80MTAwMDAwMC9BLUJsYWNrLVB1Zy1wdWdzLTQxMDQyMzc4LTcwMC00NjcuanBn.jpg'}], ['108', {'file_url': 'http://www.petplan.com.au/blog/wp-content/uploads/2018/02/pug.jpg', 'name': 'L2Jsb2cvd3AtY29udGVudC91cGxvYWRzLzIwMTgvMDIvcHVnLmpwZw==.jpg'}], ['109', {'file_url': 'https://i.ebayimg.com/images/g/jPoAAOSwbtNaQjNl/s-l300.jpg', 'name': 'L2ltYWdlcy9nL2pQb0FBT1N3YnROYVFqTmwvcy1sMzAwLmpwZw==.jpg'}], ['110', {'file_url': 'https://pugshome.com/wp-content/uploads/2017/01/pug-kisses.jpg', 'name': 'L3dwLWNvbnRlbnQvdXBsb2Fkcy8yMDE3LzAxL3B1Zy1raXNzZXMuanBn.jpg'}], ['111', {'file_url': 'http://images6.fanpop.com/image/photos/41000000/A-Black-Pug-pugs-41042378-700-467.jpg', 'name': 'L2ltYWdlL3Bob3Rvcy80MTAwMDAwMC9BLUJsYWNrLVB1Zy1wdWdzLTQxMDQyMzc4LTcwMC00NjcuanBn.jpg'}], ['112', {'file_url': 'http://www.petplan.com.au/blog/wp-content/uploads/2018/02/pug.jpg', 'name': 'L2Jsb2cvd3AtY29udGVudC91cGxvYWRzLzIwMTgvMDIvcHVnLmpwZw==.jpg'}], ['113', {'file_url': 'https://i.ebayimg.com/images/g/jPoAAOSwbtNaQjNl/s-l300.jpg', 'name': 'L2ltYWdlcy9nL2pQb0FBT1N3YnROYVFqTmwvcy1sMzAwLmpwZw==.jpg'}], ['114', {'file_url': 'https://pugshome.com/wp-content/uploads/2017/01/pug-kisses.jpg', 'name': 'L3dwLWNvbnRlbnQvdXBsb2Fkcy8yMDE3LzAxL3B1Zy1raXNzZXMuanBn.jpg'}], ['115', {'file_url': 'http://images6.fanpop.com/image/photos/41000000/A-Black-Pug-pugs-41042378-700-467.jpg', 'name': 'L2ltYWdlL3Bob3Rvcy80MTAwMDAwMC9BLUJsYWNrLVB1Zy1wdWdzLTQxMDQyMzc4LTcwMC00NjcuanBn.jpg'}], ['116', {'file_url': 'http://www.petplan.com.au/blog/wp-content/uploads/2018/02/pug.jpg', 'name': 'L2Jsb2cvd3AtY29udGVudC91cGxvYWRzLzIwMTgvMDIvcHVnLmpwZw==.jpg'}], ['117', {'file_url': 'https://i.ebayimg.com/images/g/jPoAAOSwbtNaQjNl/s-l300.jpg', 'name': 'L2ltYWdlcy9nL2pQb0FBT1N3YnROYVFqTmwvcy1sMzAwLmpwZw==.jpg'}]]\n"
     ]
    }
   ],
   "source": [
    "# print(dictlist)"
   ]
  },
  {
   "cell_type": "markdown",
   "metadata": {},
   "source": [
    "### new는 file url이 중복되는 번호들 저장"
   ]
  },
  {
   "cell_type": "code",
   "execution_count": 6,
   "metadata": {
    "scrolled": true
   },
   "outputs": [
    {
     "data": {
      "text/plain": [
       "'\\n# 어떤 인덱스끼리 겹치는지 확인하기 위한 코드\\nfor i in range(0, len(json_data)):\\n    for j in range(i+1, len(json_data)):\\n        if dictlist[i][1] == dictlist[j][1]:\\n            print(i, j)\\n'"
      ]
     },
     "execution_count": 6,
     "metadata": {},
     "output_type": "execute_result"
    }
   ],
   "source": [
    "\"\"\"\n",
    "# 어떤 인덱스끼리 겹치는지 확인하기 위한 코드\n",
    "for i in range(0, len(json_data)):\n",
    "    for j in range(i+1, len(json_data)):\n",
    "        if dictlist[i][1] == dictlist[j][1]:\n",
    "            print(i, j)\n",
    "\"\"\""
   ]
  },
  {
   "cell_type": "code",
   "execution_count": 7,
   "metadata": {},
   "outputs": [
    {
     "name": "stdout",
     "output_type": "stream",
     "text": [
      "{'file_url': 'https://i.ebayimg.com/images/g/jPoAAOSwbtNaQjNl/s-l300.jpg', 'name': 'L2ltYWdlcy9nL2pQb0FBT1N3YnROYVFqTmwvcy1sMzAwLmpwZw==.jpg'}\n",
      "{'file_url': 'https://i.ebayimg.com/images/g/jPoAAOSwbtNaQjNl/s-l300.jpg', 'name': 'L2ltYWdlcy9nL2pQb0FBT1N3YnROYVFqTmwvcy1sMzAwLmpwZw==.jpg'}\n"
     ]
    }
   ],
   "source": [
    "print(dictlist[113][1])\n",
    "print(dictlist[117][1])"
   ]
  },
  {
   "cell_type": "code",
   "execution_count": 8,
   "metadata": {},
   "outputs": [
    {
     "name": "stdout",
     "output_type": "stream",
     "text": [
      "중복제거 전: 429\n",
      "중복제거: 86\n"
     ]
    }
   ],
   "source": [
    "new=[]\n",
    "for i in range(0, len(json_data)):\n",
    "    for j in range(i+1, len(json_data)):\n",
    "        if dictlist[i][1] == dictlist[j][1]:\n",
    "            new.append(j)\n",
    "            \n",
    "print('중복제거 전: {}'.format(len(new)))\n",
    "print('중복제거: {}'.format(len(set(new))))\n",
    "new = set(new)"
   ]
  },
  {
   "cell_type": "code",
   "execution_count": 9,
   "metadata": {},
   "outputs": [
    {
     "name": "stdout",
     "output_type": "stream",
     "text": [
      "{6, 12, 16, 19, 29, 30, 31, 35, 36, 37, 38, 39, 41, 42, 46, 47, 48, 49, 50, 51, 52, 53, 54, 55, 56, 57, 58, 59, 60, 61, 62, 63, 64, 65, 66, 67, 68, 69, 70, 71, 72, 73, 74, 75, 76, 77, 78, 79, 80, 81, 82, 83, 84, 85, 86, 87, 88, 89, 90, 91, 92, 93, 94, 95, 96, 97, 98, 99, 100, 101, 102, 103, 104, 105, 106, 107, 108, 109, 110, 111, 112, 113, 114, 115, 116, 117}\n"
     ]
    }
   ],
   "source": [
    "print(new)"
   ]
  },
  {
   "cell_type": "markdown",
   "metadata": {},
   "source": [
    "### new2에는 len(제이슨)중 new에 있지 않은 번호들 저장, 즉 중복된번호들을 제거하고 나머지 번호들만 저장"
   ]
  },
  {
   "cell_type": "code",
   "execution_count": 10,
   "metadata": {},
   "outputs": [],
   "source": [
    "new2 = []"
   ]
  },
  {
   "cell_type": "code",
   "execution_count": 11,
   "metadata": {},
   "outputs": [],
   "source": [
    "for i in range(0, len(json_data)):\n",
    "    if i not in new:\n",
    "        new2.append(i)"
   ]
  },
  {
   "cell_type": "markdown",
   "metadata": {},
   "source": [
    "### 중복 제거"
   ]
  },
  {
   "cell_type": "code",
   "execution_count": 13,
   "metadata": {},
   "outputs": [
    {
     "data": {
      "text/plain": [
       "32"
      ]
     },
     "execution_count": 13,
     "metadata": {},
     "output_type": "execute_result"
    }
   ],
   "source": [
    "len(new2)"
   ]
  },
  {
   "cell_type": "markdown",
   "metadata": {},
   "source": [
    "### newdict2라는 새로운 dict를 만들고 그곳에 0부터 넘버링하여 해당 값을 넣음"
   ]
  },
  {
   "cell_type": "code",
   "execution_count": 14,
   "metadata": {},
   "outputs": [],
   "source": [
    "newdict2 = {}"
   ]
  },
  {
   "cell_type": "code",
   "execution_count": 15,
   "metadata": {},
   "outputs": [],
   "source": [
    "for i in range(len(new2)):\n",
    "    newdict2.update({i:dictlist[i][1]})"
   ]
  },
  {
   "cell_type": "code",
   "execution_count": 16,
   "metadata": {},
   "outputs": [
    {
     "data": {
      "text/plain": [
       "{0: {'file_url': 'https://www.pets4homes.co.uk/images/breeds/13/large/f154a6789fd8a3f4fcd1ef2b628d494f.jpg',\n",
       "  'name': 'L2ltYWdlcy9icmVlZHMvMTMvbGFyZ2UvZjE1NGE2Nzg5ZmQ4YTNmNGZjZDFlZjJiNjI4ZDQ5NGYuanBn.jpg'},\n",
       " 1: {'file_url': 'https://lookaside.fbsbx.com/lookaside/crawler/media/?media_id=607600402635002',\n",
       "  'name': 'L2xvb2thc2lkZS9jcmF3bGVyL21lZGlhLw==.jpg'},\n",
       " 2: {'file_url': 'http://www.petstorenepal.com/image/cache/catalog/dog/puppiesforsale/85a20d212ad65f38a707c16d424e1791-900x1050.jpg',\n",
       "  'name': 'L2ltYWdlL2NhY2hlL2NhdGFsb2cvZG9nL3B1cHBpZXNmb3JzYWxlLzg1YTIwZDIxMmFkNjVmMzhhNzA3YzE2ZDQyNGUxNzkxLTkwMHgxMDUwLmpwZw==.jpg'},\n",
       " 3: {'file_url': 'https://hips.hearstapps.com/hmg-prod.s3.amazonaws.com/images/doug-the-pug-1516375006.jpg?crop=0.984xw:0.722xh;0,0.264xh&resize=1200:*',\n",
       "  'name': 'L2htZy1wcm9kLnMzLmFtYXpvbmF3cy5jb20vaW1hZ2VzL2RvdWctdGhlLXB1Zy0xNTE2Mzc1MDA2LmpwZw==.jpg'},\n",
       " 4: {'file_url': 'https://barkingroyalty.com/wp-content/uploads/2017/02/pug-stop-snoring.jpg',\n",
       "  'name': 'L3dwLWNvbnRlbnQvdXBsb2Fkcy8yMDE3LzAyL3B1Zy1zdG9wLXNub3JpbmcuanBn.jpg'},\n",
       " 5: {'file_url': 'https://images-na.ssl-images-amazon.com/images/I/61oY4LvbLKL._UY395_.jpg',\n",
       "  'name': 'L2ltYWdlcy9JLzYxb1k0THZiTEtMLl9VWTM5NV8uanBn.jpg'},\n",
       " 6: {'file_url': 'https://images-na.ssl-images-amazon.com/images/I/61oY4LvbLKL._UY395_.jpg',\n",
       "  'name': 'L2ltYWdlcy9JLzYxb1k0THZiTEtMLl9VWTM5NV8uanBn.jpg'},\n",
       " 7: {'file_url': 'https://i.pinimg.com/originals/fe/16/9e/fe169e836b16a9cc6fa7b85705884181.jpg',\n",
       "  'name': 'L29yaWdpbmFscy9mZS8xNi85ZS9mZTE2OWU4MzZiMTZhOWNjNmZhN2I4NTcwNTg4NDE4MS5qcGc=.jpg'},\n",
       " 8: {'file_url': 'http://mapr.ggwz.us/images/mapr/rescues/auto/2049.jpg',\n",
       "  'name': 'L2ltYWdlcy9tYXByL3Jlc2N1ZXMvYXV0by8yMDQ5LmpwZw==.jpg'},\n",
       " 9: {'file_url': 'https://pugshome.com/wp-content/uploads/2017/01/pug-kisses.jpg',\n",
       "  'name': 'L3dwLWNvbnRlbnQvdXBsb2Fkcy8yMDE3LzAxL3B1Zy1raXNzZXMuanBn.jpg'},\n",
       " 10: {'file_url': 'https://imgix.ranker.com/user_node_img/50026/1000504468/original/big-eyes-photo-u1?w=650&q=50&fm=pjpg&fit=crop&crop=faces',\n",
       "  'name': 'L3VzZXJfbm9kZV9pbWcvNTAwMjYvMTAwMDUwNDQ2OC9vcmlnaW5hbC9iaWctZXllcy1waG90by11MQ==.jpg'},\n",
       " 11: {'file_url': 'https://i.pinimg.com/originals/a3/be/06/a3be0684f782c6b276df4055de75f341.jpg',\n",
       "  'name': 'L29yaWdpbmFscy9hMy9iZS8wNi9hM2JlMDY4NGY3ODJjNmIyNzZkZjQwNTVkZTc1ZjM0MS5qcGc=.jpg'},\n",
       " 12: {'file_url': 'http://www.petstorenepal.com/image/cache/catalog/dog/puppiesforsale/85a20d212ad65f38a707c16d424e1791-900x1050.jpg',\n",
       "  'name': 'L2ltYWdlL2NhY2hlL2NhdGFsb2cvZG9nL3B1cHBpZXNmb3JzYWxlLzg1YTIwZDIxMmFkNjVmMzhhNzA3YzE2ZDQyNGUxNzkxLTkwMHgxMDUwLmpwZw==.jpg'},\n",
       " 13: {'file_url': 'https://usatftw.files.wordpress.com/2014/09/afp-533122985.jpg?w=1000&h=600&crop=1',\n",
       "  'name': 'LzIwMTQvMDkvYWZwLTUzMzEyMjk4NS5qcGc=.jpg'},\n",
       " 14: {'file_url': 'https://cdn1-www.dogtime.com/assets/uploads/gallery/pug-dog-breed-pictures/5-seniorprofile.jpg',\n",
       "  'name': 'L2Fzc2V0cy91cGxvYWRzL2dhbGxlcnkvcHVnLWRvZy1icmVlZC1waWN0dXJlcy81LXNlbmlvcnByb2ZpbGUuanBn.jpg'},\n",
       " 15: {'file_url': 'https://images-ra.adoptapet.com/seo/1/h/96_h.png',\n",
       "  'name': 'L3Nlby8xL2gvOTZfaC5wbmc=.png'},\n",
       " 16: {'file_url': 'https://i.pinimg.com/originals/a3/be/06/a3be0684f782c6b276df4055de75f341.jpg',\n",
       "  'name': 'L29yaWdpbmFscy9hMy9iZS8wNi9hM2JlMDY4NGY3ODJjNmIyNzZkZjQwNTVkZTc1ZjM0MS5qcGc=.jpg'},\n",
       " 17: {'file_url': 'https://www.claires.com/on/demandware.static/-/Library-Sites-claires-library/default/dw61fa53f4/cat-landing-pages/doug-the-pug-clp/DougThePug-3-New-Galaxy-2560x1440.jpg',\n",
       "  'name': 'L29uL2RlbWFuZHdhcmUuc3RhdGljLy0vTGlicmFyeS1TaXRlcy1jbGFpcmVzLWxpYnJhcnkvZGVmYXVsdC9kdzYxZmE1M2Y0L2NhdC1sYW5kaW5nLXBhZ2VzL2RvdWctdGhlLXB1Zy1jbHAvRG91Z1RoZVB1Zy0zLU5ldy1HYWxheHktMjU2MHgxNDQwLmpwZw==.jpg'},\n",
       " 18: {'file_url': 'https://imgix.ranker.com/user_node_img/50026/1000504480/original/puppy-cuddle-photo-u1?w=650&q=50&fm=pjpg&fit=crop&crop=faces',\n",
       "  'name': 'L3VzZXJfbm9kZV9pbWcvNTAwMjYvMTAwMDUwNDQ4MC9vcmlnaW5hbC9wdXBweS1jdWRkbGUtcGhvdG8tdTE=.jpg'},\n",
       " 19: {'file_url': 'https://imgix.ranker.com/user_node_img/50026/1000504468/original/big-eyes-photo-u1?w=650&q=50&fm=pjpg&fit=crop&crop=faces',\n",
       "  'name': 'L3VzZXJfbm9kZV9pbWcvNTAwMjYvMTAwMDUwNDQ2OC9vcmlnaW5hbC9iaWctZXllcy1waG90by11MQ==.jpg'},\n",
       " 20: {'file_url': 'https://upload.wikimedia.org/wikipedia/commons/6/6f/Pug_-_1_year_Old.jpg',\n",
       "  'name': 'L3dpa2lwZWRpYS9jb21tb25zLzYvNmYvUHVnXy1fMV95ZWFyX09sZC5qcGc=.jpg'},\n",
       " 21: {'file_url': 'https://s3.amazonaws.com/cdn-origin-etr.akc.org/wp-content/uploads/2017/11/12225358/Pug-On-White-01.jpg',\n",
       "  'name': 'L2Nkbi1vcmlnaW4tZXRyLmFrYy5vcmcvd3AtY29udGVudC91cGxvYWRzLzIwMTcvMTEvMTIyMjUzNTgvUHVnLU9uLVdoaXRlLTAxLmpwZw==.jpg'},\n",
       " 22: {'file_url': 'https://secure.img1-fg.wfcdn.com/im/53299221/compr-r85/4307/43074449/hanging-pug-puppy-statue.jpg',\n",
       "  'name': 'L2ltLzUzMjk5MjIxL2NvbXByLXI4NS80MzA3LzQzMDc0NDQ5L2hhbmdpbmctcHVnLXB1cHB5LXN0YXR1ZS5qcGc=.jpg'},\n",
       " 23: {'file_url': 'https://s3.amazonaws.com/cdn-origin-etr.akc.org/wp-content/uploads/2017/11/05085531/Pug-1-resized.jpg',\n",
       "  'name': 'L2Nkbi1vcmlnaW4tZXRyLmFrYy5vcmcvd3AtY29udGVudC91cGxvYWRzLzIwMTcvMTEvMDUwODU1MzEvUHVnLTEtcmVzaXplZC5qcGc=.jpg'},\n",
       " 24: {'file_url': 'https://gfnc1kn6pi-flywheel.netdna-ssl.com/wp-content/uploads/2018/06/best-food-for-pug-puppies-header.jpg',\n",
       "  'name': 'L3dwLWNvbnRlbnQvdXBsb2Fkcy8yMDE4LzA2L2Jlc3QtZm9vZC1mb3ItcHVnLXB1cHBpZXMtaGVhZGVyLmpwZw==.jpg'},\n",
       " 25: {'file_url': 'https://i.ytimg.com/vi/wRx3Uvcktm8/maxresdefault.jpg',\n",
       "  'name': 'L3ZpL3dSeDNVdmNrdG04L21heHJlc2RlZmF1bHQuanBn.jpg'},\n",
       " 26: {'file_url': 'https://images-na.ssl-images-amazon.com/images/I/71gRnoHe%2BTL._UY550_.jpg',\n",
       "  'name': 'L2ltYWdlcy9JLzcxZ1Jub0hlJTJCVEwuX1VZNTUwXy5qcGc=.jpg'},\n",
       " 27: {'file_url': 'https://vetstreet.brightspotcdn.com/dims4/default/354d0cf/2147483647/thumbnail/645x380/quality/90/?url=https%3A%2F%2Fvetstreet-brightspot.s3.amazonaws.com%2Fdc%2Fc4%2F8ccd3a28438d81b2f2f5d8031a05%2Fpug-ap-r82p3q-645.jpg',\n",
       "  'name': 'L2RpbXM0L2RlZmF1bHQvMzU0ZDBjZi8yMTQ3NDgzNjQ3L3RodW1ibmFpbC82NDV4MzgwL3F1YWxpdHkvOTAv.jpg'},\n",
       " 28: {'file_url': 'https://cdn1-www.dogtime.com/assets/uploads/gallery/pug-dog-breed-pictures/2-face.jpg',\n",
       "  'name': 'L2Fzc2V0cy91cGxvYWRzL2dhbGxlcnkvcHVnLWRvZy1icmVlZC1waWN0dXJlcy8yLWZhY2UuanBn.jpg'},\n",
       " 29: {'file_url': 'https://images-ra.adoptapet.com/seo/1/h/96_h.png',\n",
       "  'name': 'L3Nlby8xL2gvOTZfaC5wbmc=.png'},\n",
       " 30: {'file_url': 'https://pugshome.com/wp-content/uploads/2017/01/pug-kisses.jpg',\n",
       "  'name': 'L3dwLWNvbnRlbnQvdXBsb2Fkcy8yMDE3LzAxL3B1Zy1raXNzZXMuanBn.jpg'},\n",
       " 31: {'file_url': 'https://imgix.ranker.com/user_node_img/50026/1000504480/original/puppy-cuddle-photo-u1?w=650&q=50&fm=pjpg&fit=crop&crop=faces',\n",
       "  'name': 'L3VzZXJfbm9kZV9pbWcvNTAwMjYvMTAwMDUwNDQ4MC9vcmlnaW5hbC9wdXBweS1jdWRkbGUtcGhvdG8tdTE=.jpg'}}"
      ]
     },
     "execution_count": 16,
     "metadata": {},
     "output_type": "execute_result"
    }
   ],
   "source": [
    "newdict2"
   ]
  },
  {
   "cell_type": "markdown",
   "metadata": {},
   "source": [
    "### convert newdict2 to json"
   ]
  },
  {
   "cell_type": "code",
   "execution_count": 17,
   "metadata": {},
   "outputs": [
    {
     "data": {
      "text/plain": [
       "str"
      ]
     },
     "execution_count": 17,
     "metadata": {},
     "output_type": "execute_result"
    }
   ],
   "source": [
    "newdict2 = json.dumps(newdict2)\n",
    "loaded = json.loads(newdict2)\n",
    "#loaded['rating'] #Output 3.5\n",
    "#type(r) #Output str\n",
    "type(newdict2) #Output dict"
   ]
  },
  {
   "cell_type": "code",
   "execution_count": null,
   "metadata": {},
   "outputs": [],
   "source": []
  },
  {
   "cell_type": "code",
   "execution_count": null,
   "metadata": {},
   "outputs": [],
   "source": []
  },
  {
   "cell_type": "code",
   "execution_count": null,
   "metadata": {},
   "outputs": [],
   "source": []
  },
  {
   "cell_type": "code",
   "execution_count": null,
   "metadata": {},
   "outputs": [],
   "source": []
  },
  {
   "cell_type": "code",
   "execution_count": null,
   "metadata": {},
   "outputs": [],
   "source": []
  },
  {
   "cell_type": "code",
   "execution_count": null,
   "metadata": {},
   "outputs": [],
   "source": []
  },
  {
   "cell_type": "code",
   "execution_count": null,
   "metadata": {},
   "outputs": [],
   "source": []
  },
  {
   "cell_type": "code",
   "execution_count": null,
   "metadata": {},
   "outputs": [],
   "source": []
  },
  {
   "cell_type": "code",
   "execution_count": null,
   "metadata": {},
   "outputs": [],
   "source": []
  },
  {
   "cell_type": "code",
   "execution_count": null,
   "metadata": {},
   "outputs": [],
   "source": []
  }
 ],
 "metadata": {
  "kernelspec": {
   "display_name": "Python 3",
   "language": "python",
   "name": "python3"
  },
  "language_info": {
   "codemirror_mode": {
    "name": "ipython",
    "version": 3
   },
   "file_extension": ".py",
   "mimetype": "text/x-python",
   "name": "python",
   "nbconvert_exporter": "python",
   "pygments_lexer": "ipython3",
   "version": "3.7.2"
  }
 },
 "nbformat": 4,
 "nbformat_minor": 2
}
